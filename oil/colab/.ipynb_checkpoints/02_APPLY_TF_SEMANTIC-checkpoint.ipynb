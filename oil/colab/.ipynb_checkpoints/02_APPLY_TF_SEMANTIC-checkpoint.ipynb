{
 "cells": [
  {
   "cell_type": "markdown",
   "metadata": {
    "id": "MoRttLOzZWyx"
   },
   "source": [
    "# 02 Semantic classification (picture->class) for 256*256 tiles of Sentinel1 for selected areas(10dd squares) \n",
    "Presentation [here](https://docs.google.com/presentation/d/1WFvmjGYE753JFsm_mDYHeU9QppFuJoauXEBVlIWVN8Q/edit#slide=id.g9f0a856913_0_14)"
   ]
  },
  {
   "cell_type": "markdown",
   "metadata": {
    "id": "2AW6mym1gVsv"
   },
   "source": [
    "01.1 INSTALLING specific version"
   ]
  },
  {
   "cell_type": "code",
   "execution_count": 1,
   "metadata": {
    "executionInfo": {
     "elapsed": 29627,
     "status": "ok",
     "timestamp": 1624986029961,
     "user": {
      "displayName": "Igor Glushkov",
      "photoUrl": "https://lh3.googleusercontent.com/a-/AOh14GgjL3WvM-3fZ2ZeVejYUq49HUoTDMXI1ACzmUV9=s64",
      "userId": "04421627850327208525"
     },
     "user_tz": -180
    },
    "id": "rYdRP2LqsZe4"
   },
   "outputs": [],
   "source": [
    "%%capture\n",
    "!pip install geemap\n",
    "!pip install rasterio\n",
    "!pip install geojson\n",
    "!pip install geopandas"
   ]
  },
  {
   "cell_type": "code",
   "execution_count": 2,
   "metadata": {
    "colab": {
     "base_uri": "https://localhost:8080/"
    },
    "executionInfo": {
     "elapsed": 3139,
     "status": "ok",
     "timestamp": 1624986875829,
     "user": {
      "displayName": "Igor Glushkov",
      "photoUrl": "https://lh3.googleusercontent.com/a-/AOh14GgjL3WvM-3fZ2ZeVejYUq49HUoTDMXI1ACzmUV9=s64",
      "userId": "04421627850327208525"
     },
     "user_tz": -180
    },
    "id": "YmKm6qnus2ae",
    "outputId": "14233f93-6cd5-48de-ff65-aebc8be31968"
   },
   "outputs": [
    {
     "ename": "ModuleNotFoundError",
     "evalue": "No module named 'google.colab'",
     "output_type": "error",
     "traceback": [
      "\u001b[1;31m---------------------------------------------------------------------------\u001b[0m",
      "\u001b[1;31mModuleNotFoundError\u001b[0m                       Traceback (most recent call last)",
      "\u001b[1;32m<ipython-input-2-104d6696e450>\u001b[0m in \u001b[0;36m<module>\u001b[1;34m\u001b[0m\n\u001b[0;32m     16\u001b[0m \u001b[1;32mimport\u001b[0m \u001b[0msubprocess\u001b[0m\u001b[1;33m\u001b[0m\u001b[1;33m\u001b[0m\u001b[0m\n\u001b[0;32m     17\u001b[0m \u001b[1;32mimport\u001b[0m \u001b[0mmatplotlib\u001b[0m\u001b[1;33m.\u001b[0m\u001b[0mpyplot\u001b[0m \u001b[1;32mas\u001b[0m \u001b[0mplt\u001b[0m\u001b[1;33m\u001b[0m\u001b[1;33m\u001b[0m\u001b[0m\n\u001b[1;32m---> 18\u001b[1;33m \u001b[1;32mfrom\u001b[0m \u001b[0mgoogle\u001b[0m\u001b[1;33m.\u001b[0m\u001b[0mcolab\u001b[0m \u001b[1;32mimport\u001b[0m \u001b[0mauth\u001b[0m\u001b[1;33m\u001b[0m\u001b[1;33m\u001b[0m\u001b[0m\n\u001b[0m\u001b[0;32m     19\u001b[0m \u001b[0mauth\u001b[0m\u001b[1;33m.\u001b[0m\u001b[0mauthenticate_user\u001b[0m\u001b[1;33m(\u001b[0m\u001b[1;33m)\u001b[0m\u001b[1;33m\u001b[0m\u001b[1;33m\u001b[0m\u001b[0m\n\u001b[0;32m     20\u001b[0m \u001b[1;31m#from google.cloud import bigquery\u001b[0m\u001b[1;33m\u001b[0m\u001b[1;33m\u001b[0m\u001b[1;33m\u001b[0m\u001b[0m\n",
      "\u001b[1;31mModuleNotFoundError\u001b[0m: No module named 'google.colab'"
     ]
    }
   ],
   "source": [
    "import zipfile\n",
    "from tqdm import tqdm\n",
    "from functools import partial\n",
    "tqdm = partial(tqdm, position=0, leave=True)\n",
    "import shapely.ops as ops\n",
    "from shapely.geometry import shape, mapping\n",
    "from shapely.geometry.multipolygon import MultiPolygon\n",
    "import glob\n",
    "import PIL\n",
    "import zipfile\n",
    "%reload_ext autoreload\n",
    "%autoreload 2\n",
    "%matplotlib inline\n",
    "import numpy as np\n",
    "import cv2\n",
    "import subprocess\n",
    "import matplotlib.pyplot as plt\n",
    "from google.colab import auth\n",
    "auth.authenticate_user()\n",
    "#from google.cloud import bigquery\n",
    "from google.cloud import storage\n",
    "import os.path\n",
    "import geojson\n",
    "import datetime as dt\n",
    "import os\n",
    "from itertools import product\n",
    "import rasterio as rio\n",
    "from rasterio import windows\n",
    "from rasterio.merge import merge\n",
    "import pandas as pd\n",
    "import geopandas as gpd\n",
    "from rasterio import features\n",
    "import rasterio.warp\n",
    "import geojson\n",
    "import json\n",
    "import fiona\n",
    "import tensorflow as tf\n",
    "import tensorflow_hub as hub\n",
    "import skimage.io as io\n",
    "from IPython.display import clear_output\n",
    "from tensorflow import keras\n",
    "print(tf.__version__)"
   ]
  },
  {
   "cell_type": "code",
   "execution_count": null,
   "metadata": {
    "colab": {
     "base_uri": "https://localhost:8080/"
    },
    "executionInfo": {
     "elapsed": 238,
     "status": "ok",
     "timestamp": 1624986878507,
     "user": {
      "displayName": "Igor Glushkov",
      "photoUrl": "https://lh3.googleusercontent.com/a-/AOh14GgjL3WvM-3fZ2ZeVejYUq49HUoTDMXI1ACzmUV9=s64",
      "userId": "04421627850327208525"
     },
     "user_tz": -180
    },
    "id": "Jgg63xrPLTdb",
    "outputId": "9f1e9805-ff53-4a7e-8277-17fd7eb0ca0e"
   },
   "outputs": [],
   "source": [
    "from google.colab import drive\n",
    "drive.mount('/content/drive')"
   ]
  },
  {
   "cell_type": "code",
   "execution_count": null,
   "metadata": {
    "id": "FNWNeOl17dJp"
   },
   "outputs": [],
   "source": [
    "import ee\n",
    "ee.Authenticate()\n",
    "ee.Initialize()\n",
    "print(ee.__version__)"
   ]
  },
  {
   "cell_type": "code",
   "execution_count": null,
   "metadata": {
    "executionInfo": {
     "elapsed": 416,
     "status": "ok",
     "timestamp": 1624986904321,
     "user": {
      "displayName": "Igor Glushkov",
      "photoUrl": "https://lh3.googleusercontent.com/a-/AOh14GgjL3WvM-3fZ2ZeVejYUq49HUoTDMXI1ACzmUV9=s64",
      "userId": "04421627850327208525"
     },
     "user_tz": -180
    },
    "id": "zYMealiK8oPL"
   },
   "outputs": [],
   "source": [
    "try:\n",
    "    import google.colab\n",
    "    import geemap.eefolium as emap\n",
    "except:\n",
    "    import geemap as emap"
   ]
  },
  {
   "cell_type": "code",
   "execution_count": null,
   "metadata": {
    "id": "cd6aCBHi7m5g"
   },
   "outputs": [],
   "source": [
    "AOI = ee.FeatureCollection('users/iglushko/OIL_DATA/aoi_prior')\n",
    "tiles = ee.FeatureCollection('users/iglushko/OIL_DATA/tiles10dd')\n",
    "Map = emap.Map(center=(AOI.first().geometry().centroid().coordinates().get(1).getInfo(), AOI.first().geometry().centroid().coordinates().get(0).getInfo()), zoom=4)\n",
    "Map.addLayer(tiles, {'color':'blue'}, '1 prior', True)\n",
    "Map.addLayer(AOI, {'color':'red'}, 'tiles', True)\n",
    "Map"
   ]
  },
  {
   "cell_type": "code",
   "execution_count": null,
   "metadata": {
    "colab": {
     "base_uri": "https://localhost:8080/"
    },
    "executionInfo": {
     "elapsed": 256,
     "status": "ok",
     "timestamp": 1624986909951,
     "user": {
      "displayName": "Igor Glushkov",
      "photoUrl": "https://lh3.googleusercontent.com/a-/AOh14GgjL3WvM-3fZ2ZeVejYUq49HUoTDMXI1ACzmUV9=s64",
      "userId": "04421627850327208525"
     },
     "user_tz": -180
    },
    "id": "FOfpkV4mC9dw",
    "outputId": "1be66d90-6690-4fb3-8d71-669433a82488"
   },
   "outputs": [],
   "source": [
    "names=ee.List(ee.FeatureCollection(AOI).aggregate_array('GLADNAME').getInfo())\n",
    "names=names.getInfo()\n",
    "print(names)"
   ]
  },
  {
   "cell_type": "code",
   "execution_count": null,
   "metadata": {
    "executionInfo": {
     "elapsed": 845,
     "status": "ok",
     "timestamp": 1624986911845,
     "user": {
      "displayName": "Igor Glushkov",
      "photoUrl": "https://lh3.googleusercontent.com/a-/AOh14GgjL3WvM-3fZ2ZeVejYUq49HUoTDMXI1ACzmUV9=s64",
      "userId": "04421627850327208525"
     },
     "user_tz": -180
    },
    "id": "NmVpluco_FBh"
   },
   "outputs": [],
   "source": [
    "#clear prev\n",
    "#!ls -l\n",
    "!rm -rf 'tmp'\n",
    "!rm -rf 'tmp_tiles'\n",
    "!rm -rf 'detected'\n",
    "!rm -rf 'detected_tmp'\n",
    "!rm -rf 'mosaic.tif'\n",
    "shape_out_files = glob.glob('*detected*')\n",
    "for shape_file in shape_out_files:\n",
    "      os.remove(shape_file)"
   ]
  },
  {
   "cell_type": "code",
   "execution_count": 14,
   "metadata": {
    "colab": {
     "base_uri": "https://localhost:8080/"
    },
    "executionInfo": {
     "elapsed": 264,
     "status": "ok",
     "timestamp": 1624986914638,
     "user": {
      "displayName": "Igor Glushkov",
      "photoUrl": "https://lh3.googleusercontent.com/a-/AOh14GgjL3WvM-3fZ2ZeVejYUq49HUoTDMXI1ACzmUV9=s64",
      "userId": "04421627850327208525"
     },
     "user_tz": -180
    },
    "id": "ij1GPzTdAKeK",
    "outputId": "a8bbf7ea-72f7-47ac-f7af-d1adf7c247e6"
   },
   "outputs": [
    {
     "name": "stdout",
     "output_type": "stream",
     "text": [
      "total 12\n",
      "-rw-r--r-- 1 root root  720 Jun 29 16:59 adc.json\n",
      "drwx------ 6 root root 4096 Jun 29 16:59 drive\n",
      "drwxr-xr-x 1 root root 4096 Jun 15 13:37 sample_data\n"
     ]
    }
   ],
   "source": [
    "!ls -l"
   ]
  },
  {
   "cell_type": "markdown",
   "metadata": {
    "id": "iH1Zxa6ltASm"
   },
   "source": [
    "01.2 Load sematic model from drive (224*224) TF Keras"
   ]
  },
  {
   "cell_type": "code",
   "execution_count": 16,
   "metadata": {
    "executionInfo": {
     "elapsed": 5983,
     "status": "ok",
     "timestamp": 1624986980301,
     "user": {
      "displayName": "Igor Glushkov",
      "photoUrl": "https://lh3.googleusercontent.com/a-/AOh14GgjL3WvM-3fZ2ZeVejYUq49HUoTDMXI1ACzmUV9=s64",
      "userId": "04421627850327208525"
     },
     "user_tz": -180
    },
    "id": "fafODxWn3CvV"
   },
   "outputs": [],
   "source": [
    "mod_path = \"/content/drive/My Drive/Oil Spill Detection Dataset/tfrecords/models\"\n",
    "model=tf.keras.models.load_model(mod_path+'/resnet_v2_101_oil_semanthic.h5', custom_objects={'KerasLayer':hub.KerasLayer})"
   ]
  },
  {
   "cell_type": "markdown",
   "metadata": {
    "id": "D63j3J30hW-G"
   },
   "source": [
    "01.3 Set constant AOI, N-days, gcloud folders etc\n"
   ]
  },
  {
   "cell_type": "code",
   "execution_count": 17,
   "metadata": {
    "executionInfo": {
     "elapsed": 10,
     "status": "ok",
     "timestamp": 1624986980306,
     "user": {
      "displayName": "Igor Glushkov",
      "photoUrl": "https://lh3.googleusercontent.com/a-/AOh14GgjL3WvM-3fZ2ZeVejYUq49HUoTDMXI1ACzmUV9=s64",
      "userId": "04421627850327208525"
     },
     "user_tz": -180
    },
    "id": "MYz2I2dihlDx"
   },
   "outputs": [],
   "source": [
    "ndays=5\n",
    "#select aoi\n",
    "name ='20N_070W' # @param ['20N_070W', '20S_050W', '10N_000E', '60N_000E', '10N_120E']\n",
    "#Gcloud\n",
    "cloud_id='peatfires-153915'\n",
    "BUCKET = 'tf_classification_igg' # @param [\"tf_classification_igg\"]\n",
    "FOLDER = 'OILSPILLS/%s'% name\n",
    "FOLDER_DET = 'OILSPILLS/%s/detected'%name\n",
    "#export\n",
    "BANDS=['VV']\n",
    "# Specify the size and shape of patches expected by the model.\n",
    "tile_width = 256 # @param [256,1025]\n",
    "tile_height = 256 # @param [256,650]\n",
    "kernel_buffer=8 # @param [8]\n",
    "KERNEL_SHAPE = [tile_width, tile_height]\n",
    "class_list={1:'oilspills and ships',2:'oilspills',3:'background'}"
   ]
  },
  {
   "cell_type": "markdown",
   "metadata": {
    "id": "Yx4EZXq-y_nW"
   },
   "source": [
    "02 Get data from gcloud and create dataset for prediction\n"
   ]
  },
  {
   "cell_type": "markdown",
   "metadata": {
    "id": "xG1UJgHKa7u5"
   },
   "source": [
    "02.1 Get data from gcloud folder"
   ]
  },
  {
   "cell_type": "code",
   "execution_count": 18,
   "metadata": {
    "executionInfo": {
     "elapsed": 261,
     "status": "ok",
     "timestamp": 1624986982006,
     "user": {
      "displayName": "Igor Glushkov",
      "photoUrl": "https://lh3.googleusercontent.com/a-/AOh14GgjL3WvM-3fZ2ZeVejYUq49HUoTDMXI1ACzmUV9=s64",
      "userId": "04421627850327208525"
     },
     "user_tz": -180
    },
    "id": "RtmEGbZizfqK"
   },
   "outputs": [],
   "source": [
    "def get_files(BUCKET,FOLDER):\n",
    "  storage_client = storage.Client(cloud_id)\n",
    "  # Note: Client.list_blobs requires at least package version 1.17.0.\n",
    "  blobs = storage_client.list_blobs(BUCKET,prefix=FOLDER)\n",
    "  return blobs\n",
    "\n",
    "def copy_files_from_gs(flist):\n",
    "  #in_path = 'gs://'+BUCKET+'/'+FOLDER +'/'\n",
    "  with tqdm(total=len(flist)) as pbar:\n",
    "    for n,f in enumerate(flist):\n",
    "      input_filename = f\n",
    "      out='tmp/img%s.tif'%(n)\n",
    "      #print(out)\n",
    "      !gsutil -q cp gs://{BUCKET}/{input_filename} {out}\n",
    "      pbar.update()\n",
    "\n",
    "def copy_file_from_gs(f,BUCKET,n):\n",
    "    input_filename = f\n",
    "    out='tmp/img%s.tif'%n\n",
    "    !gsutil -q cp gs://{BUCKET}/{input_filename} {out}\n",
    "    return out\n",
    "\n",
    "def get_tiles(ds, width=tile_width, height=tile_height):\n",
    "    nols, nrows = ds.meta['width'], ds.meta['height']\n",
    "    offsets = product(range(0, nols, width), range(0, nrows, height))\n",
    "    n_tiles=(len(range(0, nols, width))*len(range(0, nrows, height)))\n",
    "    big_window = windows.Window(col_off=0, row_off=0, width=nols, height=nrows)\n",
    "    for col_off, row_off in  offsets:\n",
    "        window =windows.Window(col_off=col_off, row_off=row_off, width=width, height=height).intersection(big_window)\n",
    "        transform = windows.transform(window, ds.transform)\n",
    "        yield window, transform\n",
    "         \n",
    "\n",
    "def get_dates():\n",
    "  FOLDER = 'OILSPILLS/%s'% names[0]\n",
    "  gsfiles=get_files(BUCKET,FOLDER)\n",
    "  fl=[]\n",
    "  for n,f in enumerate(gsfiles):\n",
    "    fl.append(f.name)\n",
    "  #set dates\n",
    "  date_start = fl[0].split('/')[2].split('_')[4].split('.')[0][0:10]\n",
    "  today=dt.datetime.strptime(date_start,\"%Y-%m-%d\")\n",
    "  day_after=today+ dt.timedelta(days=ndays)\n",
    "  date_end=dt.datetime.strftime(day_after, \"%Y-%m-%d\")\n",
    "  return(date_start,date_end)"
   ]
  },
  {
   "cell_type": "code",
   "execution_count": null,
   "metadata": {
    "id": "RgUqzJGwesES"
   },
   "outputs": [],
   "source": [
    "# a,b=get_dates()\n",
    "# print(a,b)"
   ]
  },
  {
   "cell_type": "code",
   "execution_count": 19,
   "metadata": {
    "executionInfo": {
     "elapsed": 239,
     "status": "ok",
     "timestamp": 1624986984667,
     "user": {
      "displayName": "Igor Glushkov",
      "photoUrl": "https://lh3.googleusercontent.com/a-/AOh14GgjL3WvM-3fZ2ZeVejYUq49HUoTDMXI1ACzmUV9=s64",
      "userId": "04421627850327208525"
     },
     "user_tz": -180
    },
    "id": "m9xjlduXzimY"
   },
   "outputs": [],
   "source": [
    "def export_src(name,BUCKET,date_start,date_end):\n",
    "  try:\n",
    "    #set crs\n",
    "    aoi = ee.FeatureCollection(AOI).filter(ee.Filter.eq('GLADNAME', name))\n",
    "    s1 = ee.ImageCollection('COPERNICUS/S1_GRD').filterMetadata('transmitterReceiverPolarisation', 'equals', ['VV','VH']).filterBounds(aoi).filterDate(date_start,date_end)\n",
    "    crs=s1.first().select('VV').projection().crs().getInfo()\n",
    "    #clear prev\n",
    "    !rm -rf 'tmp'\n",
    "    !rm -rf 'tmp_tiles'\n",
    "    !mkdir 'tmp'\n",
    "    !mkdir 'tmp_tiles'\n",
    "    #copy\n",
    "    FOLDER = 'OILSPILLS/%s'% name\n",
    "    gsfiles=get_files(BUCKET,FOLDER)\n",
    "    flist=[]\n",
    "    for n,f in enumerate(gsfiles):\n",
    "      flist.append(f.name)\n",
    "    return flist\n",
    "    #copy_files_from_gs(flist)\n",
    "  except IOError as e:\n",
    "    print('Export failed: %s' % str(e))\n",
    "  "
   ]
  },
  {
   "cell_type": "code",
   "execution_count": 21,
   "metadata": {
    "executionInfo": {
     "elapsed": 250,
     "status": "ok",
     "timestamp": 1624986994520,
     "user": {
      "displayName": "Igor Glushkov",
      "photoUrl": "https://lh3.googleusercontent.com/a-/AOh14GgjL3WvM-3fZ2ZeVejYUq49HUoTDMXI1ACzmUV9=s64",
      "userId": "04421627850327208525"
     },
     "user_tz": -180
    },
    "id": "zfbfPRbAbciU"
   },
   "outputs": [],
   "source": [
    "def create_tiles(img):\n",
    "  out_path = 'tmp_tiles/'\n",
    "  output_filename = '{}_{}-{}.tif'\n",
    "  try:\n",
    "    with rio.open(img) as inds:\n",
    "      meta = inds.meta.copy()\n",
    "      for window, transform in get_tiles(inds):\n",
    "        outd=inds.read(window=window)\n",
    "        meta['transform'] = transform\n",
    "        meta['width'], meta['height'] = window.width, window.height\n",
    "        outpath = os.path.join(out_path,output_filename.format(os.path.basename(img).split('.')[0],int(window.col_off), int(window.row_off)))\n",
    "        with rio.open(outpath, 'w', **meta) as outds:\n",
    "            outds.write(outd)\n",
    "        outd=[]\n",
    "        outds=[]\n",
    "  except IOError as e:\n",
    "    print(e)"
   ]
  },
  {
   "cell_type": "markdown",
   "metadata": {
    "id": "fKgKPqXq1GiY"
   },
   "source": [
    "03 Get prediction"
   ]
  },
  {
   "cell_type": "code",
   "execution_count": 22,
   "metadata": {
    "executionInfo": {
     "elapsed": 272,
     "status": "ok",
     "timestamp": 1624986996899,
     "user": {
      "displayName": "Igor Glushkov",
      "photoUrl": "https://lh3.googleusercontent.com/a-/AOh14GgjL3WvM-3fZ2ZeVejYUq49HUoTDMXI1ACzmUV9=s64",
      "userId": "04421627850327208525"
     },
     "user_tz": -180
    },
    "id": "NM0ktXt8_XK2"
   },
   "outputs": [],
   "source": [
    "def get_prediction(t):\n",
    "  #print(tile)\n",
    "  raw_input = t.read(1)\n",
    "  masked_input = np.ma.masked_invalid(raw_input)\n",
    "  land_area =  np.count_nonzero(raw_input==0) /(raw_input.shape[0]*raw_input.shape[1])\n",
    "  img = masked_input + ( masked_input.min()*-1)\n",
    "  where_are_NaNs = np.isnan(img.data)\n",
    "  img.data[where_are_NaNs] = 1\n",
    "  if (img.max()>0) and (raw_input.shape[1]==256) and (raw_input.shape[0]==256)and (land_area<0.5):\n",
    "    img = img/img.max()\n",
    "    #create3 bands\n",
    "    merged = np.dstack((img, img, img))\n",
    "    image_shape = tf.stack([tile_height, tile_width, 3])\n",
    "    image = tf.reshape(merged, image_shape)\n",
    "    #create batch\n",
    "    img_array = keras.preprocessing.image.img_to_array(image)\n",
    "    img_array = tf.expand_dims(img_array, 0) # Create a batch\n",
    "    pred = model.predict(img_array)\n",
    "    score = tf.nn.softmax(pred[0])\n",
    "    tile_class=class_list[np.argmax(pred)]\n",
    "    prob=np.max(score)\n",
    "    return(tile_class,prob)\n",
    "  else:\n",
    "    #print(\" ----------------------has only nan\" )\n",
    "    tile_class='no data'\n",
    "    prob=0\n",
    "    return(tile_class,prob)\n",
    "    tile.close()"
   ]
  },
  {
   "cell_type": "code",
   "execution_count": null,
   "metadata": {
    "id": "BbrnvqUdQK5h"
   },
   "outputs": [],
   "source": [
    "#t=rio.open('tmp_tiles/mosaic_13568-9216.tif')\n",
    "#get_prediction(t)"
   ]
  },
  {
   "cell_type": "markdown",
   "metadata": {
    "id": "n_8KWWe1cByl"
   },
   "source": [
    "03.1 Create image footprint for detected tiles and store as GeoJson"
   ]
  },
  {
   "cell_type": "code",
   "execution_count": 23,
   "metadata": {
    "executionInfo": {
     "elapsed": 241,
     "status": "ok",
     "timestamp": 1624987001799,
     "user": {
      "displayName": "Igor Glushkov",
      "photoUrl": "https://lh3.googleusercontent.com/a-/AOh14GgjL3WvM-3fZ2ZeVejYUq49HUoTDMXI1ACzmUV9=s64",
      "userId": "04421627850327208525"
     },
     "user_tz": -180
    },
    "id": "BXcqLxwerdE9"
   },
   "outputs": [],
   "source": [
    "def create_geoms_selected(names):\n",
    "  date_start,date_end=get_dates()\n",
    "  name='detected_test_%s_%s.geojson'%(date_start,date_end)\n",
    "  out = {'name': name,'type':'FeatureCollection', 'crs': {'type': 'name', 'properties': {'name': 'EPSG:4326'}},'features':[]}\n",
    "  for name in names:\n",
    "    print('Start with: %s\\n'% name)\n",
    "    flist=export_src(name,BUCKET,date_start,date_end)    \n",
    "    with tqdm(total=len(flist)) as pbar:\n",
    "      for n,img in enumerate(flist):\n",
    "        pbar.update()\n",
    "        img=copy_file_from_gs(img,BUCKET,n)\n",
    "        #create tiles\n",
    "        create_tiles('%s'%img)\n",
    "        os.remove(img)\n",
    "        print('\\nTiles created for: %s\\n'% img)\n",
    "        tiles = glob.glob('tmp_tiles/*')\n",
    "        print('\\nClassification performed for: %s\\n'% img)\n",
    "        count_b=0\n",
    "        for tile in tiles:     \n",
    "          with rio.open(tile) as dataset:\n",
    "            #get pred and prob\n",
    "            tile_class,prob = get_prediction(dataset)\n",
    "            #extract only oilspils and limited background tiles not exceed reshold\n",
    "            if (tile_class =='oilspills') or (tile_class =='oilspills and ships'):\n",
    "            # Read the dataset's valid data mask as a ndarray.\n",
    "              mask = dataset.dataset_mask()\n",
    "\n",
    "              # Extract feature shapes and values from the array.\n",
    "              for geom, val in rio.features.shapes(\n",
    "                  mask, transform=dataset.transform):\n",
    "\n",
    "                # Transform shapes from the dataset's own coordinate\n",
    "                # reference system to CRS84 (EPSG:4326).\n",
    "                geom = rio.warp.transform_geom(\n",
    "                dataset.crs, 'EPSG:4326', geom, precision=6)\n",
    "                # Print GeoJSON shapes to stdout.\n",
    "                #print(geom)\n",
    "                feature = { 'type':'Feature','properties':{},\"geometry\":{}}\n",
    "                feature['properties']['name'] = name\n",
    "                feature['properties']['tile_name'] = tile\n",
    "                feature['properties']['class'] = tile_class\n",
    "                feature['properties']['prob'] = float(round(prob,3))\n",
    "                feature['properties']['start_date'] = date_start\n",
    "                feature['properties']['end_date'] = date_end\n",
    "                feature['geometry']=geom\n",
    "              out['features'].append(feature)\n",
    "              os.remove(tile)\n",
    "            #select some portion of background\n",
    "            elif (tile_class =='background') and (count_b<=100) and (prob>0.95):\n",
    "              # Read the dataset's valid data mask as a ndarray.\n",
    "              mask = dataset.dataset_mask()\n",
    "\n",
    "              # Extract feature shapes and values from the array.\n",
    "              for geom, val in rio.features.shapes(\n",
    "                  mask, transform=dataset.transform):\n",
    "\n",
    "                # Transform shapes from the dataset's own coordinate\n",
    "                # reference system to CRS84 (EPSG:4326).\n",
    "                geom = rio.warp.transform_geom(\n",
    "                dataset.crs, 'EPSG:4326', geom, precision=6)\n",
    "                # Print GeoJSON shapes to stdout.\n",
    "                #print(geom)\n",
    "                feature = { 'type':'Feature','properties':{},\"geometry\":{}}\n",
    "                feature['properties']['name'] = name\n",
    "                feature['properties']['tile_name'] = tile\n",
    "                feature['properties']['class'] = tile_class\n",
    "                feature['properties']['prob'] = float(round(prob,3))\n",
    "                feature['properties']['start_date'] = date_start\n",
    "                feature['properties']['end_date'] = date_end\n",
    "                feature['geometry']=geom\n",
    "              out['features'].append(feature)\n",
    "              os.remove(tile)\n",
    "              count_b+=1\n",
    "            else:\n",
    "              os.remove(tile)\n",
    "              continue\n",
    "      print('\\nClassification finished for: %s\\n'% name)\n",
    "  return out"
   ]
  },
  {
   "cell_type": "code",
   "execution_count": 26,
   "metadata": {
    "executionInfo": {
     "elapsed": 247,
     "status": "ok",
     "timestamp": 1624987068159,
     "user": {
      "displayName": "Igor Glushkov",
      "photoUrl": "https://lh3.googleusercontent.com/a-/AOh14GgjL3WvM-3fZ2ZeVejYUq49HUoTDMXI1ACzmUV9=s64",
      "userId": "04421627850327208525"
     },
     "user_tz": -180
    },
    "id": "oDGzFCec_hAx"
   },
   "outputs": [],
   "source": [
    "def create_geoms(names):\n",
    "  date_start,date_end=get_dates()\n",
    "  name='detected_test_%s_%s.geojson'%(date_start,date_end)\n",
    "  out = {'name': name,'type':'FeatureCollection', 'crs': {'type': 'name', 'properties': {'name': 'EPSG:4326'}},'features':[]}\n",
    "  for name in names:\n",
    "    #print('Start with: %s\\n'% name)\n",
    "    flist=export_src(name,BUCKET,date_start,date_end)    \n",
    "    with tqdm(total=len(flist)) as pbar:\n",
    "      for n,img in enumerate(flist):\n",
    "        pbar.update()\n",
    "        img=copy_file_from_gs(img,BUCKET,n)\n",
    "        #create tiles\n",
    "        create_tiles('%s'%img)\n",
    "        os.remove(img)\n",
    "        #print('\\nTiles created for: %s\\n'% img)\n",
    "        tiles = glob.glob('tmp_tiles/*')\n",
    "        #print('\\nClassification performed for: %s\\n'% img)\n",
    "        count_b=0\n",
    "        for tile in tiles:     \n",
    "          with rio.open(tile) as dataset:\n",
    "            #get pred and prob\n",
    "            tile_class,prob = get_prediction(dataset)\n",
    "            #extract only oilspils and limited background tiles not exceed reshold\n",
    "            mask = dataset.dataset_mask()\n",
    "\n",
    "            # Extract feature shapes and values from the array.\n",
    "            for geom, val in rio.features.shapes(\n",
    "                mask, transform=dataset.transform):\n",
    "\n",
    "              # Transform shapes from the dataset's own coordinate\n",
    "              # reference system to CRS84 (EPSG:4326).\n",
    "              geom = rio.warp.transform_geom(\n",
    "              dataset.crs, 'EPSG:4326', geom, precision=6)\n",
    "              # Print GeoJSON shapes to stdout.\n",
    "              #print(geom)\n",
    "              feature = { 'type':'Feature','properties':{},\"geometry\":{}}\n",
    "              feature['properties']['name'] = name\n",
    "              feature['properties']['tile_name'] = tile\n",
    "              feature['properties']['class'] = tile_class\n",
    "              feature['properties']['prob'] = float(round(prob,3))\n",
    "              feature['properties']['start_date'] = date_start\n",
    "              feature['properties']['end_date'] = date_end\n",
    "              feature['geometry']=geom\n",
    "            out['features'].append(feature)\n",
    "            os.remove(tile)\n",
    "      #print('\\nClassification finished for: %s\\n'% name)\n",
    "  return out"
   ]
  },
  {
   "cell_type": "code",
   "execution_count": 27,
   "metadata": {
    "colab": {
     "base_uri": "https://localhost:8080/"
    },
    "executionInfo": {
     "elapsed": 8118408,
     "status": "ok",
     "timestamp": 1624995188863,
     "user": {
      "displayName": "Igor Glushkov",
      "photoUrl": "https://lh3.googleusercontent.com/a-/AOh14GgjL3WvM-3fZ2ZeVejYUq49HUoTDMXI1ACzmUV9=s64",
      "userId": "04421627850327208525"
     },
     "user_tz": -180
    },
    "id": "W4JQzklquBfL",
    "outputId": "a8f82760-f040-4fc7-fc6b-ec76d1e506b6"
   },
   "outputs": [
    {
     "name": "stderr",
     "output_type": "stream",
     "text": [
      "WARNING:google.auth._default:No project ID could be determined. Consider running `gcloud config set project` or setting the GOOGLE_CLOUD_PROJECT environment variable\n",
      "WARNING:google.auth._default:No project ID could be determined. Consider running `gcloud config set project` or setting the GOOGLE_CLOUD_PROJECT environment variable\n",
      "  3%|▎         | 2/64 [00:09<05:09,  4.99s/it]"
     ]
    },
    {
     "name": "stdout",
     "output_type": "stream",
     "text": [
      "WARNING:tensorflow:Model was constructed with shape (None, 224, 224, 3) for input KerasTensor(type_spec=TensorSpec(shape=(None, 224, 224, 3), dtype=tf.float32, name='input_1'), name='input_1', description=\"created by layer 'input_1'\"), but it was called on an input with incompatible shape (None, 256, 256, 3).\n"
     ]
    },
    {
     "name": "stderr",
     "output_type": "stream",
     "text": [
      "WARNING:tensorflow:Model was constructed with shape (None, 224, 224, 3) for input KerasTensor(type_spec=TensorSpec(shape=(None, 224, 224, 3), dtype=tf.float32, name='input_1'), name='input_1', description=\"created by layer 'input_1'\"), but it was called on an input with incompatible shape (None, 256, 256, 3).\n",
      "100%|██████████| 64/64 [42:24<00:00, 39.76s/it]\n",
      "WARNING:google.auth._default:No project ID could be determined. Consider running `gcloud config set project` or setting the GOOGLE_CLOUD_PROJECT environment variable\n",
      "100%|██████████| 56/56 [18:03<00:00, 19.35s/it]\n",
      "WARNING:google.auth._default:No project ID could be determined. Consider running `gcloud config set project` or setting the GOOGLE_CLOUD_PROJECT environment variable\n",
      "100%|██████████| 64/64 [21:03<00:00, 19.74s/it]\n",
      "WARNING:google.auth._default:No project ID could be determined. Consider running `gcloud config set project` or setting the GOOGLE_CLOUD_PROJECT environment variable\n",
      "100%|██████████| 40/40 [31:27<00:00, 47.19s/it]\n",
      "WARNING:google.auth._default:No project ID could be determined. Consider running `gcloud config set project` or setting the GOOGLE_CLOUD_PROJECT environment variable\n",
      "100%|██████████| 64/64 [22:10<00:00, 20.79s/it]\n"
     ]
    }
   ],
   "source": [
    "geoms=create_geoms(names)"
   ]
  },
  {
   "cell_type": "code",
   "execution_count": 28,
   "metadata": {
    "executionInfo": {
     "elapsed": 1422,
     "status": "ok",
     "timestamp": 1624995190268,
     "user": {
      "displayName": "Igor Glushkov",
      "photoUrl": "https://lh3.googleusercontent.com/a-/AOh14GgjL3WvM-3fZ2ZeVejYUq49HUoTDMXI1ACzmUV9=s64",
      "userId": "04421627850327208525"
     },
     "user_tz": -180
    },
    "id": "UYsdWsTTR4KW"
   },
   "outputs": [],
   "source": [
    "date_start=geoms['features'][0]['properties']['start_date']\n",
    "date_end=geoms['features'][0]['properties']['end_date']"
   ]
  },
  {
   "cell_type": "code",
   "execution_count": 29,
   "metadata": {
    "colab": {
     "base_uri": "https://localhost:8080/"
    },
    "executionInfo": {
     "elapsed": 8,
     "status": "ok",
     "timestamp": 1624995190272,
     "user": {
      "displayName": "Igor Glushkov",
      "photoUrl": "https://lh3.googleusercontent.com/a-/AOh14GgjL3WvM-3fZ2ZeVejYUq49HUoTDMXI1ACzmUV9=s64",
      "userId": "04421627850327208525"
     },
     "user_tz": -180
    },
    "id": "ex04i76idQjf",
    "outputId": "2ae43f4d-fe57-4fa1-bad0-17420b179270"
   },
   "outputs": [
    {
     "data": {
      "text/plain": [
       "{'geometry': {'coordinates': [[[-69.250469, 19.509031],\n",
       "    [-69.247016, 19.463819],\n",
       "    [-69.199345, 19.467084],\n",
       "    [-69.202785, 19.512304],\n",
       "    [-69.250469, 19.509031]]],\n",
       "  'type': 'Polygon'},\n",
       " 'properties': {'class': 'no data',\n",
       "  'end_date': '2021-06-28',\n",
       "  'name': '20N_070W',\n",
       "  'prob': 0.0,\n",
       "  'start_date': '2021-06-23',\n",
       "  'tile_name': 'tmp_tiles/img0_7168-3072.tif'},\n",
       " 'type': 'Feature'}"
      ]
     },
     "execution_count": 29,
     "metadata": {
      "tags": []
     },
     "output_type": "execute_result"
    }
   ],
   "source": [
    "geoms['features'][0]"
   ]
  },
  {
   "cell_type": "code",
   "execution_count": 30,
   "metadata": {
    "executionInfo": {
     "elapsed": 11536,
     "status": "ok",
     "timestamp": 1624995201802,
     "user": {
      "displayName": "Igor Glushkov",
      "photoUrl": "https://lh3.googleusercontent.com/a-/AOh14GgjL3WvM-3fZ2ZeVejYUq49HUoTDMXI1ACzmUV9=s64",
      "userId": "04421627850327208525"
     },
     "user_tz": -180
    },
    "id": "og_T6pJItKr_"
   },
   "outputs": [],
   "source": [
    "with open('/content/drive/My Drive/OIL1/detected5_%s_%s_semantic256.geojson'%(date_start,date_end), 'w') as f:\n",
    "   geojson.dump(geoms, f)"
   ]
  },
  {
   "cell_type": "code",
   "execution_count": 31,
   "metadata": {
    "executionInfo": {
     "elapsed": 11554,
     "status": "ok",
     "timestamp": 1624995213343,
     "user": {
      "displayName": "Igor Glushkov",
      "photoUrl": "https://lh3.googleusercontent.com/a-/AOh14GgjL3WvM-3fZ2ZeVejYUq49HUoTDMXI1ACzmUV9=s64",
      "userId": "04421627850327208525"
     },
     "user_tz": -180
    },
    "id": "QQReE9MG4vqt"
   },
   "outputs": [],
   "source": [
    "with open('detected5_%s_%s_semantic256.geojson'%(date_start,date_end), 'w') as f:\n",
    "   geojson.dump(geoms, f)"
   ]
  },
  {
   "cell_type": "markdown",
   "metadata": {
    "id": "cV2lXbJr5Qf9"
   },
   "source": [
    "03.2 Copy all result to gcloud"
   ]
  },
  {
   "cell_type": "code",
   "execution_count": null,
   "metadata": {
    "id": "QfwqBugf46Up"
   },
   "outputs": [],
   "source": [
    "!mkdir 'detected'\n",
    "#convert to shape into detected folder\n",
    "res=gpd.read_file('detected5_%s_%s_semantic256.geojson'%(date_start,date_end))\n",
    "#res.to_file('/content/drive/My Drive/OIL1/detected_%s_%s.shp'%(name,date_start))\n",
    "res.to_file('detected/detected5_%s_%s_semantic256.shp'%(date_start,date_end))"
   ]
  },
  {
   "cell_type": "code",
   "execution_count": null,
   "metadata": {
    "id": "8nABEAn7Migg"
   },
   "outputs": [],
   "source": [
    "FOLDER_DET='OILSPILLS/detected'"
   ]
  },
  {
   "cell_type": "code",
   "execution_count": null,
   "metadata": {
    "id": "yU7r9YXBycpG"
   },
   "outputs": [],
   "source": [
    "#command='gsutil rm gs://'+BUCKET+'/'+FOLDER_DET+'/*'\n",
    "#os.system(command)"
   ]
  },
  {
   "cell_type": "code",
   "execution_count": null,
   "metadata": {
    "id": "Rq2X3NAzMurO"
   },
   "outputs": [],
   "source": [
    "!ls "
   ]
  },
  {
   "cell_type": "code",
   "execution_count": null,
   "metadata": {
    "id": "iUgmhRtc5Xyc"
   },
   "outputs": [],
   "source": [
    "%%capture\n",
    "!gsutil cp -r -q detected gs://{BUCKET}/{FOLDER_DET}"
   ]
  },
  {
   "cell_type": "code",
   "execution_count": null,
   "metadata": {
    "id": "vU0n6Amcvl6o"
   },
   "outputs": [],
   "source": [
    "#FOLDER_DET=FOLDER_DET +'/detected'\n",
    "resfiles=get_files(BUCKET,FOLDER_DET)\n",
    "reslist=[]\n",
    "for n,f in enumerate(resfiles):\n",
    "  reslist.append(f.name)"
   ]
  },
  {
   "cell_type": "code",
   "execution_count": null,
   "metadata": {
    "id": "iR22N25XKU1m"
   },
   "outputs": [],
   "source": [
    "reslist"
   ]
  },
  {
   "cell_type": "markdown",
   "metadata": {
    "id": "ZPptBqX_7Tk2"
   },
   "source": [
    "05 Upload to GEE asset"
   ]
  },
  {
   "cell_type": "code",
   "execution_count": null,
   "metadata": {
    "id": "xtzfZ8xg9XH3"
   },
   "outputs": [],
   "source": [
    "user='users/iglushko'\n",
    "asset_folder='OIL_DATA'"
   ]
  },
  {
   "cell_type": "code",
   "execution_count": null,
   "metadata": {
    "id": "Y8dEtRuXCG_B"
   },
   "outputs": [],
   "source": [
    "#upload footprint to GEE\n",
    "FOLDER_DET='OILSPILLS/detected'\n",
    "out_name='detected5_%s_%s_semantic256'%(date_start,date_end)\n",
    "src_file='gs://' + BUCKET + '/' + FOLDER_DET + '/detected5_%s_%s_semantic256.shp'%(date_start,date_end)\n",
    "out_image_asset = user+'/'+asset_folder+'/' + out_name\n",
    "!earthengine upload table --asset_id={out_image_asset} {src_file}"
   ]
  },
  {
   "cell_type": "markdown",
   "metadata": {
    "id": "a3SBE5gEBBUn"
   },
   "source": [
    "## END"
   ]
  }
 ],
 "metadata": {
  "accelerator": "GPU",
  "colab": {
   "authorship_tag": "ABX9TyPizqPuVN2I2tBceZxrvEtJ",
   "collapsed_sections": [],
   "name": "02_APPLY_TF_SEMANTIC.ipynb\"",
   "provenance": [
    {
     "file_id": "1XXLNWmZguiWEHL5qunNEx8s976lfz61s",
     "timestamp": 1624380255710
    },
    {
     "file_id": "1H3NmwNHCjkyCHmf0Um9svXMqHgTb0NH6",
     "timestamp": 1623077034383
    },
    {
     "file_id": "1Xp8-2mH_pd1dglRdINSX47IvxK8hkRQM",
     "timestamp": 1620820775635
    }
   ]
  },
  "kernelspec": {
   "display_name": "Python 3",
   "language": "python",
   "name": "python3"
  },
  "language_info": {
   "codemirror_mode": {
    "name": "ipython",
    "version": 3
   },
   "file_extension": ".py",
   "mimetype": "text/x-python",
   "name": "python",
   "nbconvert_exporter": "python",
   "pygments_lexer": "ipython3",
   "version": "3.6.9"
  }
 },
 "nbformat": 4,
 "nbformat_minor": 1
}

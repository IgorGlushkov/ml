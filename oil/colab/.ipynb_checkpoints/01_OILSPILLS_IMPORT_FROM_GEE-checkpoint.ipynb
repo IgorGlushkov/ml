{
 "cells": [
  {
   "cell_type": "markdown",
   "metadata": {
    "id": "MoRttLOzZWyx"
   },
   "source": [
    "# 01 Export Sentinel-1 composite to gcloud for selected AOI + last N days\n",
    "Presentation [here](https://docs.google.com/presentation/d/1WFvmjGYE753JFsm_mDYHeU9QppFuJoauXEBVlIWVN8Q/edit#slide=id.g9f0a856913_0_14)"
   ]
  },
  {
   "cell_type": "markdown",
   "metadata": {
    "id": "2AW6mym1gVsv"
   },
   "source": [
    "01.1 INSTALLING specific version"
   ]
  },
  {
   "cell_type": "code",
   "execution_count": 1,
   "metadata": {
    "executionInfo": {
     "elapsed": 39154,
     "status": "ok",
     "timestamp": 1625223187909,
     "user": {
      "displayName": "Igor Glushkov",
      "photoUrl": "https://lh3.googleusercontent.com/a-/AOh14GgjL3WvM-3fZ2ZeVejYUq49HUoTDMXI1ACzmUV9=s64",
      "userId": "04421627850327208525"
     },
     "user_tz": -180
    },
    "id": "rYdRP2LqsZe4"
   },
   "outputs": [],
   "source": [
    "%%capture\n",
    "!pip install geemap\n",
    "!pip install rasterio\n",
    "!pip install geojson\n",
    "!pip install geopandas"
   ]
  },
  {
   "cell_type": "code",
   "execution_count": null,
   "metadata": {
    "id": "YmKm6qnus2ae"
   },
   "outputs": [],
   "source": [
    "import zipfile\n",
    "import shapely.ops as ops\n",
    "from shapely.geometry import shape, mapping\n",
    "from shapely.geometry.multipolygon import MultiPolygon\n",
    "import glob\n",
    "import PIL\n",
    "import zipfile\n",
    "%reload_ext autoreload\n",
    "%autoreload 2\n",
    "%matplotlib inline\n",
    "import numpy as np\n",
    "import cv2\n",
    "import subprocess\n",
    "import matplotlib.pyplot as plt\n",
    "from google.colab import auth\n",
    "auth.authenticate_user()\n",
    "#from google.cloud import bigquery\n",
    "from google.cloud import storage\n",
    "import os.path\n",
    "import geojson\n",
    "import datetime as dt\n",
    "import os\n",
    "from itertools import product\n",
    "import rasterio as rio\n",
    "from rasterio import windows\n",
    "import pandas as pd\n",
    "import geopandas as gpd\n",
    "from rasterio import features\n",
    "import rasterio.warp\n",
    "import geojson\n",
    "import json\n",
    "import fiona\n",
    "import skimage.io as io\n",
    "from IPython.display import clear_output"
   ]
  },
  {
   "cell_type": "code",
   "execution_count": null,
   "metadata": {
    "colab": {
     "base_uri": "https://localhost:8080/"
    },
    "executionInfo": {
     "elapsed": 31305,
     "status": "ok",
     "timestamp": 1624907236892,
     "user": {
      "displayName": "Igor Glushkov",
      "photoUrl": "https://lh3.googleusercontent.com/a-/AOh14GgjL3WvM-3fZ2ZeVejYUq49HUoTDMXI1ACzmUV9=s64",
      "userId": "04421627850327208525"
     },
     "user_tz": -180
    },
    "id": "Jgg63xrPLTdb",
    "outputId": "43c8fed3-5cdf-47f0-fcd3-0e43a2ae0a6d"
   },
   "outputs": [
    {
     "name": "stdout",
     "output_type": "stream",
     "text": [
      "Mounted at /content/drive\n"
     ]
    }
   ],
   "source": [
    "from google.colab import drive\n",
    "drive.mount('/content/drive')"
   ]
  },
  {
   "cell_type": "code",
   "execution_count": null,
   "metadata": {
    "id": "kYKqj75SLVtA"
   },
   "outputs": [],
   "source": [
    "import ee\n",
    "ee.Authenticate()\n",
    "ee.Initialize()\n",
    "print(ee.__version__)"
   ]
  },
  {
   "cell_type": "code",
   "execution_count": null,
   "metadata": {
    "id": "7lvrQbI8ixbN"
   },
   "outputs": [],
   "source": [
    "try:\n",
    "    import google.colab\n",
    "    import geemap.eefolium as emap\n",
    "except:\n",
    "    import geemap as emap"
   ]
  },
  {
   "cell_type": "code",
   "execution_count": null,
   "metadata": {
    "colab": {
     "base_uri": "https://localhost:8080/"
    },
    "executionInfo": {
     "elapsed": 254,
     "status": "ok",
     "timestamp": 1624907254967,
     "user": {
      "displayName": "Igor Glushkov",
      "photoUrl": "https://lh3.googleusercontent.com/a-/AOh14GgjL3WvM-3fZ2ZeVejYUq49HUoTDMXI1ACzmUV9=s64",
      "userId": "04421627850327208525"
     },
     "user_tz": -180
    },
    "id": "ij1GPzTdAKeK",
    "outputId": "a5b5efe9-e754-4e33-d67c-6d8eab788f74"
   },
   "outputs": [
    {
     "name": "stdout",
     "output_type": "stream",
     "text": [
      "total 12\n",
      "-rw-r--r-- 1 root root  720 Jun 28 19:05 adc.json\n",
      "drwx------ 6 root root 4096 Jun 28 19:06 drive\n",
      "drwxr-xr-x 1 root root 4096 Jun 15 13:37 sample_data\n"
     ]
    }
   ],
   "source": [
    "!ls -l"
   ]
  },
  {
   "cell_type": "code",
   "execution_count": null,
   "metadata": {
    "id": "lVR-r00-fz3f"
   },
   "outputs": [],
   "source": [
    "AOI = ee.FeatureCollection('users/iglushko/OIL_DATA/aoi_prior')\n",
    "tiles = ee.FeatureCollection('users/iglushko/OIL_DATA/tiles10dd')"
   ]
  },
  {
   "cell_type": "markdown",
   "metadata": {
    "id": "D63j3J30hW-G"
   },
   "source": [
    "01.3 Set constant AOI, N-days, gcloud folders etc\n"
   ]
  },
  {
   "cell_type": "code",
   "execution_count": null,
   "metadata": {
    "cellView": "code",
    "colab": {
     "base_uri": "https://localhost:8080/",
     "height": 1000
    },
    "executionInfo": {
     "elapsed": 1374,
     "status": "ok",
     "timestamp": 1624907259984,
     "user": {
      "displayName": "Igor Glushkov",
      "photoUrl": "https://lh3.googleusercontent.com/a-/AOh14GgjL3WvM-3fZ2ZeVejYUq49HUoTDMXI1ACzmUV9=s64",
      "userId": "04421627850327208525"
     },
     "user_tz": -180
    },
    "id": "ir5iNJUwSuOL",
    "outputId": "d34d15b3-4663-438e-ecc0-d90ff52c612f"
   },
   "outputs": [
    {
     "data": {
      "text/html": [
       "<div style=\"width:100%;\"><div style=\"position:relative;width:100%;height:0;padding-bottom:60%;\"><span style=\"color:#565656\">Make this Notebook Trusted to load map: File -> Trust Notebook</span><iframe src=\"about:blank\" style=\"position:absolute;width:100%;height:100%;left:0;top:0;border:none !important;\" data-html=%3C%21DOCTYPE%20html%3E%0A%3Chead%3E%20%20%20%20%0A%20%20%20%20%3Cmeta%20http-equiv%3D%22content-type%22%20content%3D%22text/html%3B%20charset%3DUTF-8%22%20/%3E%0A%20%20%20%20%0A%20%20%20%20%20%20%20%20%3Cscript%3E%0A%20%20%20%20%20%20%20%20%20%20%20%20L_NO_TOUCH%20%3D%20false%3B%0A%20%20%20%20%20%20%20%20%20%20%20%20L_DISABLE_3D%20%3D%20false%3B%0A%20%20%20%20%20%20%20%20%3C/script%3E%0A%20%20%20%20%0A%20%20%20%20%3Cstyle%3Ehtml%2C%20body%20%7Bwidth%3A%20100%25%3Bheight%3A%20100%25%3Bmargin%3A%200%3Bpadding%3A%200%3B%7D%3C/style%3E%0A%20%20%20%20%3Cstyle%3E%23map%20%7Bposition%3Aabsolute%3Btop%3A0%3Bbottom%3A0%3Bright%3A0%3Bleft%3A0%3B%7D%3C/style%3E%0A%20%20%20%20%3Cscript%20src%3D%22https%3A//cdn.jsdelivr.net/npm/leaflet%401.6.0/dist/leaflet.js%22%3E%3C/script%3E%0A%20%20%20%20%3Cscript%20src%3D%22https%3A//code.jquery.com/jquery-1.12.4.min.js%22%3E%3C/script%3E%0A%20%20%20%20%3Cscript%20src%3D%22https%3A//maxcdn.bootstrapcdn.com/bootstrap/3.2.0/js/bootstrap.min.js%22%3E%3C/script%3E%0A%20%20%20%20%3Cscript%20src%3D%22https%3A//cdnjs.cloudflare.com/ajax/libs/Leaflet.awesome-markers/2.0.2/leaflet.awesome-markers.js%22%3E%3C/script%3E%0A%20%20%20%20%3Clink%20rel%3D%22stylesheet%22%20href%3D%22https%3A//cdn.jsdelivr.net/npm/leaflet%401.6.0/dist/leaflet.css%22/%3E%0A%20%20%20%20%3Clink%20rel%3D%22stylesheet%22%20href%3D%22https%3A//maxcdn.bootstrapcdn.com/bootstrap/3.2.0/css/bootstrap.min.css%22/%3E%0A%20%20%20%20%3Clink%20rel%3D%22stylesheet%22%20href%3D%22https%3A//maxcdn.bootstrapcdn.com/bootstrap/3.2.0/css/bootstrap-theme.min.css%22/%3E%0A%20%20%20%20%3Clink%20rel%3D%22stylesheet%22%20href%3D%22https%3A//maxcdn.bootstrapcdn.com/font-awesome/4.6.3/css/font-awesome.min.css%22/%3E%0A%20%20%20%20%3Clink%20rel%3D%22stylesheet%22%20href%3D%22https%3A//cdnjs.cloudflare.com/ajax/libs/Leaflet.awesome-markers/2.0.2/leaflet.awesome-markers.css%22/%3E%0A%20%20%20%20%3Clink%20rel%3D%22stylesheet%22%20href%3D%22https%3A//cdn.jsdelivr.net/gh/python-visualization/folium/folium/templates/leaflet.awesome.rotate.min.css%22/%3E%0A%20%20%20%20%0A%20%20%20%20%20%20%20%20%20%20%20%20%3Cmeta%20name%3D%22viewport%22%20content%3D%22width%3Ddevice-width%2C%0A%20%20%20%20%20%20%20%20%20%20%20%20%20%20%20%20initial-scale%3D1.0%2C%20maximum-scale%3D1.0%2C%20user-scalable%3Dno%22%20/%3E%0A%20%20%20%20%20%20%20%20%20%20%20%20%3Cstyle%3E%0A%20%20%20%20%20%20%20%20%20%20%20%20%20%20%20%20%23map_1182a37159204ebdaa239294e0bbe678%20%7B%0A%20%20%20%20%20%20%20%20%20%20%20%20%20%20%20%20%20%20%20%20position%3A%20relative%3B%0A%20%20%20%20%20%20%20%20%20%20%20%20%20%20%20%20%20%20%20%20width%3A%20100.0%25%3B%0A%20%20%20%20%20%20%20%20%20%20%20%20%20%20%20%20%20%20%20%20height%3A%20100.0%25%3B%0A%20%20%20%20%20%20%20%20%20%20%20%20%20%20%20%20%20%20%20%20left%3A%200.0%25%3B%0A%20%20%20%20%20%20%20%20%20%20%20%20%20%20%20%20%20%20%20%20top%3A%200.0%25%3B%0A%20%20%20%20%20%20%20%20%20%20%20%20%20%20%20%20%7D%0A%20%20%20%20%20%20%20%20%20%20%20%20%3C/style%3E%0A%20%20%20%20%20%20%20%20%0A%20%20%20%20%3Cscript%20src%3D%22https%3A//cdnjs.cloudflare.com/ajax/libs/leaflet.fullscreen/1.4.2/Control.FullScreen.min.js%22%3E%3C/script%3E%0A%20%20%20%20%3Clink%20rel%3D%22stylesheet%22%20href%3D%22https%3A//cdnjs.cloudflare.com/ajax/libs/leaflet.fullscreen/1.4.2/Control.FullScreen.min.css%22/%3E%0A%3C/head%3E%0A%3Cbody%3E%20%20%20%20%0A%20%20%20%20%0A%20%20%20%20%20%20%20%20%20%20%20%20%3Cdiv%20class%3D%22folium-map%22%20id%3D%22map_1182a37159204ebdaa239294e0bbe678%22%20%3E%3C/div%3E%0A%20%20%20%20%20%20%20%20%0A%3C/body%3E%0A%3Cscript%3E%20%20%20%20%0A%20%20%20%20%0A%20%20%20%20%20%20%20%20%20%20%20%20var%20map_1182a37159204ebdaa239294e0bbe678%20%3D%20L.map%28%0A%20%20%20%20%20%20%20%20%20%20%20%20%20%20%20%20%22map_1182a37159204ebdaa239294e0bbe678%22%2C%0A%20%20%20%20%20%20%20%20%20%20%20%20%20%20%20%20%7B%0A%20%20%20%20%20%20%20%20%20%20%20%20%20%20%20%20%20%20%20%20center%3A%20%5B14.979142182634076%2C%20-64.9999994527641%5D%2C%0A%20%20%20%20%20%20%20%20%20%20%20%20%20%20%20%20%20%20%20%20crs%3A%20L.CRS.EPSG3857%2C%0A%20%20%20%20%20%20%20%20%20%20%20%20%20%20%20%20%20%20%20%20zoom%3A%204%2C%0A%20%20%20%20%20%20%20%20%20%20%20%20%20%20%20%20%20%20%20%20zoomControl%3A%20true%2C%0A%20%20%20%20%20%20%20%20%20%20%20%20%20%20%20%20%20%20%20%20preferCanvas%3A%20false%2C%0A%20%20%20%20%20%20%20%20%20%20%20%20%20%20%20%20%20%20%20%20eeInitialize%3A%20true%2C%0A%20%20%20%20%20%20%20%20%20%20%20%20%20%20%20%20%20%20%20%20addGoogleMap%3A%20true%2C%0A%20%20%20%20%20%20%20%20%20%20%20%20%20%20%20%20%20%20%20%20pluginLatlngpopup%3A%20true%2C%0A%20%20%20%20%20%20%20%20%20%20%20%20%20%20%20%20%20%20%20%20pluginFullscreen%3A%20true%2C%0A%20%20%20%20%20%20%20%20%20%20%20%20%20%20%20%20%20%20%20%20pluginDraw%3A%20false%2C%0A%20%20%20%20%20%20%20%20%20%20%20%20%20%20%20%20%20%20%20%20DrawExport%3A%20true%2C%0A%20%20%20%20%20%20%20%20%20%20%20%20%20%20%20%20%20%20%20%20pluginMinimap%3A%20false%2C%0A%20%20%20%20%20%20%20%20%20%20%20%20%20%20%20%20%20%20%20%20pluginLayercontrol%3A%20false%2C%0A%20%20%20%20%20%20%20%20%20%20%20%20%20%20%20%20%7D%0A%20%20%20%20%20%20%20%20%20%20%20%20%29%3B%0A%0A%20%20%20%20%20%20%20%20%20%20%20%20%0A%0A%20%20%20%20%20%20%20%20%0A%20%20%20%20%0A%20%20%20%20%20%20%20%20%20%20%20%20var%20tile_layer_47f78b558c1645c09efc9cfac6be73a2%20%3D%20L.tileLayer%28%0A%20%20%20%20%20%20%20%20%20%20%20%20%20%20%20%20%22https%3A//%7Bs%7D.tile.openstreetmap.org/%7Bz%7D/%7Bx%7D/%7By%7D.png%22%2C%0A%20%20%20%20%20%20%20%20%20%20%20%20%20%20%20%20%7B%22attribution%22%3A%20%22Data%20by%20%5Cu0026copy%3B%20%5Cu003ca%20href%3D%5C%22http%3A//openstreetmap.org%5C%22%5Cu003eOpenStreetMap%5Cu003c/a%5Cu003e%2C%20under%20%5Cu003ca%20href%3D%5C%22http%3A//www.openstreetmap.org/copyright%5C%22%5Cu003eODbL%5Cu003c/a%5Cu003e.%22%2C%20%22detectRetina%22%3A%20false%2C%20%22maxNativeZoom%22%3A%2018%2C%20%22maxZoom%22%3A%2018%2C%20%22minZoom%22%3A%200%2C%20%22noWrap%22%3A%20false%2C%20%22opacity%22%3A%201%2C%20%22subdomains%22%3A%20%22abc%22%2C%20%22tms%22%3A%20false%7D%0A%20%20%20%20%20%20%20%20%20%20%20%20%29.addTo%28map_1182a37159204ebdaa239294e0bbe678%29%3B%0A%20%20%20%20%20%20%20%20%0A%20%20%20%20%0A%20%20%20%20%20%20%20%20%20%20%20%20var%20tile_layer_8fe27177742c4c819bb3adbae7b53516%20%3D%20L.tileLayer%28%0A%20%20%20%20%20%20%20%20%20%20%20%20%20%20%20%20%22https%3A//mt1.google.com/vt/lyrs%3Dm%5Cu0026x%3D%7Bx%7D%5Cu0026y%3D%7By%7D%5Cu0026z%3D%7Bz%7D%22%2C%0A%20%20%20%20%20%20%20%20%20%20%20%20%20%20%20%20%7B%22attribution%22%3A%20%22Google%22%2C%20%22detectRetina%22%3A%20false%2C%20%22maxNativeZoom%22%3A%2018%2C%20%22maxZoom%22%3A%2018%2C%20%22minZoom%22%3A%200%2C%20%22noWrap%22%3A%20false%2C%20%22opacity%22%3A%201%2C%20%22subdomains%22%3A%20%22abc%22%2C%20%22tms%22%3A%20false%7D%0A%20%20%20%20%20%20%20%20%20%20%20%20%29.addTo%28map_1182a37159204ebdaa239294e0bbe678%29%3B%0A%20%20%20%20%20%20%20%20%0A%20%20%20%20%0A%20%20%20%20%20%20%20%20%20%20%20%20%20%20%20%20var%20lat_lng_popup_13af8c5ceb604144a20fd51bc71a6fb9%20%3D%20L.popup%28%29%3B%0A%20%20%20%20%20%20%20%20%20%20%20%20%20%20%20%20function%20latLngPop%28e%29%20%7B%0A%20%20%20%20%20%20%20%20%20%20%20%20%20%20%20%20%20%20%20%20lat_lng_popup_13af8c5ceb604144a20fd51bc71a6fb9%0A%20%20%20%20%20%20%20%20%20%20%20%20%20%20%20%20%20%20%20%20%20%20%20%20.setLatLng%28e.latlng%29%0A%20%20%20%20%20%20%20%20%20%20%20%20%20%20%20%20%20%20%20%20%20%20%20%20.setContent%28%22Latitude%3A%20%22%20%2B%20e.latlng.lat.toFixed%284%29%20%2B%0A%20%20%20%20%20%20%20%20%20%20%20%20%20%20%20%20%20%20%20%20%20%20%20%20%20%20%20%20%20%20%20%20%20%20%20%20%22%3Cbr%3ELongitude%3A%20%22%20%2B%20e.latlng.lng.toFixed%284%29%29%0A%20%20%20%20%20%20%20%20%20%20%20%20%20%20%20%20%20%20%20%20%20%20%20%20.openOn%28map_1182a37159204ebdaa239294e0bbe678%29%3B%0A%20%20%20%20%20%20%20%20%20%20%20%20%20%20%20%20%20%20%20%20%7D%0A%20%20%20%20%20%20%20%20%20%20%20%20%20%20%20%20map_1182a37159204ebdaa239294e0bbe678.on%28%27click%27%2C%20latLngPop%29%3B%0A%20%20%20%20%20%20%20%20%20%20%20%20%0A%20%20%20%20%0A%20%20%20%20%20%20%20%20%20%20%20%20L.control.fullscreen%28%0A%20%20%20%20%20%20%20%20%20%20%20%20%20%20%20%20%7B%22forceSeparateButton%22%3A%20false%2C%20%22position%22%3A%20%22topleft%22%2C%20%22title%22%3A%20%22Full%20Screen%22%2C%20%22titleCancel%22%3A%20%22Exit%20Full%20Screen%22%7D%0A%20%20%20%20%20%20%20%20%20%20%20%20%29.addTo%28map_1182a37159204ebdaa239294e0bbe678%29%3B%0A%20%20%20%20%20%20%20%20%0A%20%20%20%20%0A%20%20%20%20%20%20%20%20%20%20%20%20map_1182a37159204ebdaa239294e0bbe678.fitBounds%28%0A%20%20%20%20%20%20%20%20%20%20%20%20%20%20%20%20%5B%5B14.979142182634076%2C%20-64.9999994527641%5D%2C%20%5B14.979142182634076%2C%20-64.9999994527641%5D%5D%2C%0A%20%20%20%20%20%20%20%20%20%20%20%20%20%20%20%20%7B%22maxZoom%22%3A%204%7D%0A%20%20%20%20%20%20%20%20%20%20%20%20%29%3B%0A%20%20%20%20%20%20%20%20%0A%20%20%20%20%0A%20%20%20%20%20%20%20%20%20%20%20%20var%20tile_layer_fe5939c632704ee5a1eae337a2853d4b%20%3D%20L.tileLayer%28%0A%20%20%20%20%20%20%20%20%20%20%20%20%20%20%20%20%22https%3A//earthengine.googleapis.com/v1alpha/projects/earthengine-legacy/maps/aeaf53067b52d6677a0cd533a0d55ae6-ac02f0e581dbbbad72d5d3519077eb13/tiles/%7Bz%7D/%7Bx%7D/%7By%7D%22%2C%0A%20%20%20%20%20%20%20%20%20%20%20%20%20%20%20%20%7B%22attribution%22%3A%20%22Google%20Earth%20Engine%22%2C%20%22detectRetina%22%3A%20false%2C%20%22maxNativeZoom%22%3A%2018%2C%20%22maxZoom%22%3A%2018%2C%20%22minZoom%22%3A%200%2C%20%22noWrap%22%3A%20false%2C%20%22opacity%22%3A%201.0%2C%20%22subdomains%22%3A%20%22abc%22%2C%20%22tms%22%3A%20false%7D%0A%20%20%20%20%20%20%20%20%20%20%20%20%29.addTo%28map_1182a37159204ebdaa239294e0bbe678%29%3B%0A%20%20%20%20%20%20%20%20%0A%20%20%20%20%0A%20%20%20%20%20%20%20%20%20%20%20%20var%20tile_layer_8375b4bc28c04edbbd706bea8b90f81e%20%3D%20L.tileLayer%28%0A%20%20%20%20%20%20%20%20%20%20%20%20%20%20%20%20%22https%3A//earthengine.googleapis.com/v1alpha/projects/earthengine-legacy/maps/f017af03a8d55b0c6945c9709cddb581-7e08503816d021c8176a5e531ffe2b26/tiles/%7Bz%7D/%7Bx%7D/%7By%7D%22%2C%0A%20%20%20%20%20%20%20%20%20%20%20%20%20%20%20%20%7B%22attribution%22%3A%20%22Google%20Earth%20Engine%22%2C%20%22detectRetina%22%3A%20false%2C%20%22maxNativeZoom%22%3A%2018%2C%20%22maxZoom%22%3A%2018%2C%20%22minZoom%22%3A%200%2C%20%22noWrap%22%3A%20false%2C%20%22opacity%22%3A%201.0%2C%20%22subdomains%22%3A%20%22abc%22%2C%20%22tms%22%3A%20false%7D%0A%20%20%20%20%20%20%20%20%20%20%20%20%29.addTo%28map_1182a37159204ebdaa239294e0bbe678%29%3B%0A%20%20%20%20%20%20%20%20%0A%20%20%20%20%0A%20%20%20%20%20%20%20%20%20%20%20%20var%20layer_control_f1804f3c5adc442bac8ccb925c9d5daf%20%3D%20%7B%0A%20%20%20%20%20%20%20%20%20%20%20%20%20%20%20%20base_layers%20%3A%20%7B%0A%20%20%20%20%20%20%20%20%20%20%20%20%20%20%20%20%20%20%20%20%22openstreetmap%22%20%3A%20tile_layer_47f78b558c1645c09efc9cfac6be73a2%2C%0A%20%20%20%20%20%20%20%20%20%20%20%20%20%20%20%20%7D%2C%0A%20%20%20%20%20%20%20%20%20%20%20%20%20%20%20%20overlays%20%3A%20%20%7B%0A%20%20%20%20%20%20%20%20%20%20%20%20%20%20%20%20%20%20%20%20%22Google%20Maps%22%20%3A%20tile_layer_8fe27177742c4c819bb3adbae7b53516%2C%0A%20%20%20%20%20%20%20%20%20%20%20%20%20%20%20%20%20%20%20%20%22Layer%201%20prior%22%20%3A%20tile_layer_fe5939c632704ee5a1eae337a2853d4b%2C%0A%20%20%20%20%20%20%20%20%20%20%20%20%20%20%20%20%20%20%20%20%22tiles%22%20%3A%20tile_layer_8375b4bc28c04edbbd706bea8b90f81e%2C%0A%20%20%20%20%20%20%20%20%20%20%20%20%20%20%20%20%7D%2C%0A%20%20%20%20%20%20%20%20%20%20%20%20%7D%3B%0A%20%20%20%20%20%20%20%20%20%20%20%20L.control.layers%28%0A%20%20%20%20%20%20%20%20%20%20%20%20%20%20%20%20layer_control_f1804f3c5adc442bac8ccb925c9d5daf.base_layers%2C%0A%20%20%20%20%20%20%20%20%20%20%20%20%20%20%20%20layer_control_f1804f3c5adc442bac8ccb925c9d5daf.overlays%2C%0A%20%20%20%20%20%20%20%20%20%20%20%20%20%20%20%20%7B%22autoZIndex%22%3A%20true%2C%20%22collapsed%22%3A%20true%2C%20%22position%22%3A%20%22topright%22%7D%0A%20%20%20%20%20%20%20%20%20%20%20%20%29.addTo%28map_1182a37159204ebdaa239294e0bbe678%29%3B%0A%20%20%20%20%20%20%20%20%0A%3C/script%3E onload=\"this.contentDocument.open();this.contentDocument.write(    decodeURIComponent(this.getAttribute('data-html')));this.contentDocument.close();\" allowfullscreen webkitallowfullscreen mozallowfullscreen></iframe></div></div>"
      ],
      "text/plain": [
       "<geemap.eefolium.Map at 0x7fbda8b92b90>"
      ]
     },
     "execution_count": 8,
     "metadata": {
      "tags": []
     },
     "output_type": "execute_result"
    }
   ],
   "source": [
    "#@title Текст заголовка по умолчанию\n",
    "#show aoi on Map\n",
    "Map = emap.Map(center=(AOI.first().geometry().centroid().coordinates().get(1).getInfo(), AOI.first().geometry().centroid().coordinates().get(0).getInfo()), zoom=4)\n",
    "Map.addLayer(tiles, {'color':'blue'}, '1 prior', True)\n",
    "Map.addLayer(AOI, {'color':'red'}, 'tiles', True)\n",
    "Map"
   ]
  },
  {
   "cell_type": "code",
   "execution_count": null,
   "metadata": {
    "colab": {
     "base_uri": "https://localhost:8080/"
    },
    "executionInfo": {
     "elapsed": 253,
     "status": "ok",
     "timestamp": 1624907260459,
     "user": {
      "displayName": "Igor Glushkov",
      "photoUrl": "https://lh3.googleusercontent.com/a-/AOh14GgjL3WvM-3fZ2ZeVejYUq49HUoTDMXI1ACzmUV9=s64",
      "userId": "04421627850327208525"
     },
     "user_tz": -180
    },
    "id": "yF7aswPovReD",
    "outputId": "d26cd6b2-8efd-4fd8-cc4d-ca04160aa501"
   },
   "outputs": [
    {
     "name": "stdout",
     "output_type": "stream",
     "text": [
      "['20N_070W', '20S_050W', '10N_000E', '60N_000E', '10N_120E']\n"
     ]
    }
   ],
   "source": [
    "names=ee.List(ee.FeatureCollection(AOI).aggregate_array('GLADNAME').getInfo())\n",
    "print(names.getInfo())"
   ]
  },
  {
   "cell_type": "code",
   "execution_count": null,
   "metadata": {
    "colab": {
     "base_uri": "https://localhost:8080/"
    },
    "executionInfo": {
     "elapsed": 234,
     "status": "ok",
     "timestamp": 1624907273649,
     "user": {
      "displayName": "Igor Glushkov",
      "photoUrl": "https://lh3.googleusercontent.com/a-/AOh14GgjL3WvM-3fZ2ZeVejYUq49HUoTDMXI1ACzmUV9=s64",
      "userId": "04421627850327208525"
     },
     "user_tz": -180
    },
    "id": "67i5Ts8zimaI",
    "outputId": "7495d2ef-5c16-4bf8-ec1c-23da1d2b6eb5"
   },
   "outputs": [
    {
     "name": "stdout",
     "output_type": "stream",
     "text": [
      "2021-06-23 2021-06-28\n"
     ]
    }
   ],
   "source": [
    "ndays=5\n",
    "today = dt.datetime.now()\n",
    "day_before=today- dt.timedelta(days=ndays)\n",
    "date_start=dt.datetime.strftime(day_before, \"%Y-%m-%d\")\n",
    "date_end=dt.datetime.strftime(today, \"%Y-%m-%d\")\n",
    "print(date_start,date_end)"
   ]
  },
  {
   "cell_type": "code",
   "execution_count": null,
   "metadata": {
    "id": "MYz2I2dihlDx"
   },
   "outputs": [],
   "source": [
    "ndays=5\n",
    "#Gcloud\n",
    "cloud_id='###'\n",
    "BUCKET = '###'\n",
    "#export\n",
    "BANDS=['VV']\n",
    "scale=20 #(10*2)\n",
    "#tile_height=256\n",
    "#tile_width=256\n",
    "# Specify the size and shape of patches expected by the model.\n",
    "dims=[2560*3, 2560*3]"
   ]
  },
  {
   "cell_type": "markdown",
   "metadata": {
    "id": "GsR5_zq-2rAs"
   },
   "source": [
    "01.4 Create S1 composite and select only sea with Aster DEM"
   ]
  },
  {
   "cell_type": "code",
   "execution_count": null,
   "metadata": {
    "id": "M7f3bMmS9_ts"
   },
   "outputs": [],
   "source": [
    "def stretcher(bands,im,AOI,scale,range1,range2):\n",
    "    stats = im.select(bands).clipToCollection(AOI).reduceRegion(\n",
    "    reducer=ee.Reducer.percentile([range1,range2]),\n",
    "    geometry=AOI,\n",
    "    scale=scale,\n",
    "    maxPixels= 1e15)\n",
    "    imRGB = im.select(bands).visualize(\n",
    "       min=ee.List([stats.get(bands[0]+'_p'+str(range1))]), \n",
    "       max=ee.List([stats.get(bands[0]+'_p'+str(range2))]), \n",
    "    )\n",
    "    return im.set('im', imRGB)\n",
    "\n",
    "def norm_to_float(image,aoi,scale):\n",
    "  VV=image.select('VV')\n",
    "  VVminMax = VV.reduceRegion(reducer=ee.Reducer.minMax(),geometry=aoi.getInfo(),scale=scale,maxPixels= 1e15)\n",
    "  VV=VV.unitScale(ee.Number(VVminMax.get('VV_min')), ee.Number(VVminMax.get('VV_max')))\n",
    "  return ee.Image([VV]).rename('VV')"
   ]
  },
  {
   "cell_type": "code",
   "execution_count": null,
   "metadata": {
    "id": "NZvik3AaS55x"
   },
   "outputs": [],
   "source": [
    "#speckle filter func\n",
    "#Functions to convert from/to dB\n",
    "def toNatural(img):\n",
    "  return ee.Image(10.0).pow(img.select(0).divide(10.0))\n",
    "\n",
    "def toDB(img):\n",
    "  return ee.Image(img).log10().multiply(10.0)\n",
    "\n",
    "def toGamma0(img):\n",
    "  return img.select(0).subtract(img.select(1).multiply(Math.PI/180.0).cos().log10().multiply(10.0))\n",
    "\n",
    "\n",
    "#The RL speckle filter\n",
    "def RefinedLee(img):\n",
    "  #img must be in natural units, i.e. not in dB!\n",
    "  #Set up 3x3 kernels \n",
    "  weights3 = ee.List.repeat(ee.List.repeat(1,3),3)\n",
    "  kernel3 = ee.Kernel.fixed(3,3, weights3, 1, 1, False)\n",
    "\n",
    "  mean3 = img.reduceNeighborhood(ee.Reducer.mean(), kernel3)\n",
    "  variance3 = img.reduceNeighborhood(ee.Reducer.variance(), kernel3)\n",
    "\n",
    "  #Use a sample of the 3x3 windows inside a 7x7 windows to determine gradients and directions\n",
    "  sample_weights = ee.List([[0,0,0,0,0,0,0], [0,1,0,1,0,1,0],[0,0,0,0,0,0,0], [0,1,0,1,0,1,0], [0,0,0,0,0,0,0], [0,1,0,1,0,1,0],[0,0,0,0,0,0,0]])\n",
    "\n",
    "  sample_kernel = ee.Kernel.fixed(7,7, sample_weights, 3,3, False)\n",
    "\n",
    "  #Calculate mean and variance for the sampled windows and store as 9 bands\n",
    "  sample_mean = mean3.neighborhoodToBands(sample_kernel)\n",
    "  sample_var = variance3.neighborhoodToBands(sample_kernel)\n",
    "\n",
    "  #Determine the 4 gradients for the sampled windows\n",
    "  gradients = sample_mean.select(1).subtract(sample_mean.select(7)).abs()\n",
    "  gradients = gradients.addBands(sample_mean.select(6).subtract(sample_mean.select(2)).abs())\n",
    "  gradients = gradients.addBands(sample_mean.select(3).subtract(sample_mean.select(5)).abs())\n",
    "  gradients = gradients.addBands(sample_mean.select(0).subtract(sample_mean.select(8)).abs())\n",
    "\n",
    "  #And find the maximum gradient amongst gradient bands\n",
    "  max_gradient = gradients.reduce(ee.Reducer.max())\n",
    "\n",
    "  #Create a mask for band pixels that are the maximum gradient\n",
    "  gradmask = gradients.eq(max_gradient)\n",
    "\n",
    "  #duplicate gradmask bands: each gradient represents 2 directions\n",
    "  gradmask = gradmask.addBands(gradmask)\n",
    "\n",
    "  #Determine the 8 directions\n",
    "  directions = sample_mean.select(1).subtract(sample_mean.select(4)).gt(sample_mean.select(4).subtract(sample_mean.select(7))).multiply(1)\n",
    "  directions = directions.addBands(sample_mean.select(6).subtract(sample_mean.select(4)).gt(sample_mean.select(4).subtract(sample_mean.select(2))).multiply(2))\n",
    "  directions = directions.addBands(sample_mean.select(3).subtract(sample_mean.select(4)).gt(sample_mean.select(4).subtract(sample_mean.select(5))).multiply(3))\n",
    "  directions = directions.addBands(sample_mean.select(0).subtract(sample_mean.select(4)).gt(sample_mean.select(4).subtract(sample_mean.select(8))).multiply(4))\n",
    "  #The next 4 are the not() of the previous 4\n",
    "  directions = directions.addBands(directions.select(0).Not().multiply(5))\n",
    "  directions = directions.addBands(directions.select(1).Not().multiply(6))\n",
    "  directions = directions.addBands(directions.select(2).Not().multiply(7))\n",
    "  directions = directions.addBands(directions.select(3).Not().multiply(8))\n",
    "\n",
    "  #Mask all values that are not 1-8\n",
    "  directions = directions.updateMask(gradmask)\n",
    "\n",
    "  #\"collapse\" the stack into a singe band image (due to masking, each pixel has just one value (1-8) in it's directional band, and is otherwise masked)\n",
    "  directions = directions.reduce(ee.Reducer.sum()) \n",
    "\n",
    "  #var pal = ['ffffff','ff0000','ffff00', '00ff00', '00ffff', '0000ff', 'ff00ff', '000000'];\n",
    "  #Map.addLayer(directions.reduce(ee.Reducer.sum()), {min:1, max:8, palette: pal}, 'Directions', false);\n",
    "\n",
    "  sample_stats = sample_var.divide(sample_mean.multiply(sample_mean))\n",
    "\n",
    "  #Calculate localNoiseVariance\n",
    "  sigmaV = sample_stats.toArray().arraySort().arraySlice(0,0,5).arrayReduce(ee.Reducer.mean(), [0])\n",
    "\n",
    "  #Set up the 7*7 kernels for directional statistics\n",
    "  rect_weights = ee.List.repeat(ee.List.repeat(0,7),3).cat(ee.List.repeat(ee.List.repeat(1,7),4))\n",
    "\n",
    "  diag_weights = ee.List([[1,0,0,0,0,0,0], [1,1,0,0,0,0,0], [1,1,1,0,0,0,0], \n",
    "    [1,1,1,1,0,0,0], [1,1,1,1,1,0,0], [1,1,1,1,1,1,0], [1,1,1,1,1,1,1]])\n",
    "\n",
    "  rect_kernel = ee.Kernel.fixed(7,7, rect_weights, 3, 3, False)\n",
    "  diag_kernel = ee.Kernel.fixed(7,7, diag_weights, 3, 3, False)\n",
    "\n",
    "  #Create stacks for mean and variance using the original kernels. Mask with relevant direction.\n",
    "  dir_mean = img.reduceNeighborhood(ee.Reducer.mean(), rect_kernel).updateMask(directions.eq(1))\n",
    "  dir_var = img.reduceNeighborhood(ee.Reducer.variance(), rect_kernel).updateMask(directions.eq(1))\n",
    "\n",
    "  dir_mean = dir_mean.addBands(img.reduceNeighborhood(ee.Reducer.mean(), diag_kernel).updateMask(directions.eq(2)))\n",
    "  dir_var = dir_var.addBands(img.reduceNeighborhood(ee.Reducer.variance(), diag_kernel).updateMask(directions.eq(2)))\n",
    "\n",
    "  #and add the bands for rotated kernels\n",
    "  for i in range(1,4):\n",
    "    dir_mean = dir_mean.addBands(img.reduceNeighborhood(ee.Reducer.mean(), rect_kernel.rotate(i)).updateMask(directions.eq(2*i+1)))\n",
    "    dir_var = dir_var.addBands(img.reduceNeighborhood(ee.Reducer.variance(), rect_kernel.rotate(i)).updateMask(directions.eq(2*i+1)))\n",
    "    dir_mean = dir_mean.addBands(img.reduceNeighborhood(ee.Reducer.mean(), diag_kernel.rotate(i)).updateMask(directions.eq(2*i+2)))\n",
    "    dir_var = dir_var.addBands(img.reduceNeighborhood(ee.Reducer.variance(), diag_kernel.rotate(i)).updateMask(directions.eq(2*i+2)))\n",
    "\n",
    "  #\"collapse\" the stack into a single band image (due to masking, each pixel has just one value in it's directional band, and is otherwise masked)\n",
    "  dir_mean = dir_mean.reduce(ee.Reducer.sum())\n",
    "  dir_var = dir_var.reduce(ee.Reducer.sum())\n",
    "\n",
    "  #A finally generate the filtered value\n",
    "  varX = dir_var.subtract(dir_mean.multiply(dir_mean).multiply(sigmaV)).divide(sigmaV.add(1.0))\n",
    "\n",
    "  b = varX.divide(dir_var)\n",
    "\n",
    "  result = dir_mean.add(b.multiply(img.subtract(dir_mean)))\n",
    "  return(result.arrayFlatten([['sum']]))\n",
    "\n",
    "\n"
   ]
  },
  {
   "cell_type": "code",
   "execution_count": null,
   "metadata": {
    "colab": {
     "base_uri": "https://localhost:8080/"
    },
    "executionInfo": {
     "elapsed": 1930,
     "status": "ok",
     "timestamp": 1624907290695,
     "user": {
      "displayName": "Igor Glushkov",
      "photoUrl": "https://lh3.googleusercontent.com/a-/AOh14GgjL3WvM-3fZ2ZeVejYUq49HUoTDMXI1ACzmUV9=s64",
      "userId": "04421627850327208525"
     },
     "user_tz": -180
    },
    "id": "Eh_Y8Tuq8PoR",
    "outputId": "993b0daf-42ae-476b-e819-fdd214ade825"
   },
   "outputs": [
    {
     "name": "stdout",
     "output_type": "stream",
     "text": [
      "148\n"
     ]
    }
   ],
   "source": [
    "#S1 collection\n",
    "s1 = ee.ImageCollection('COPERNICUS/S1_GRD').filterMetadata('transmitterReceiverPolarisation', 'equals', ['VV','VH']).filterBounds(AOI).filterDate(date_start,date_end)\n",
    "#dem\n",
    "dem = ee.Image(\"JAXA/ALOS/AW3D30/V2_2\").select('AVE_DSM').unmask().clip(AOI)\n",
    "#mask less then 1m height\n",
    "dmask = ee.Image(dem.lt(1))\n",
    "print(s1.size().getInfo())"
   ]
  },
  {
   "cell_type": "code",
   "execution_count": null,
   "metadata": {
    "id": "ksRRYA0q-jM1"
   },
   "outputs": [],
   "source": [
    "#stretching\n",
    "source_im=s1.mean().updateMask(dmask)\n",
    "stretched_im=stretcher(['VV'],source_im,ee.FeatureCollection(AOI),500,3,97)\n",
    "stretched_im=ee.Image(stretched_im.get('im')).rename('VV')"
   ]
  },
  {
   "cell_type": "code",
   "execution_count": null,
   "metadata": {
    "id": "efZr75oHUWJM"
   },
   "outputs": [],
   "source": [
    "comp_vv1 = source_im\n",
    "comp_vv_lee1= ee.Image(toDB(RefinedLee(toNatural(comp_vv1)))).rename('VV')"
   ]
  },
  {
   "cell_type": "markdown",
   "metadata": {
    "id": "fXksAH0kwJDa"
   },
   "source": [
    "01.5 Show on map"
   ]
  },
  {
   "cell_type": "code",
   "execution_count": null,
   "metadata": {
    "id": "5RQPnQFA-45-"
   },
   "outputs": [],
   "source": [
    "Map = emap.Map(center=(AOI.first().geometry().centroid().coordinates().get(1).getInfo(), AOI.first().geometry().centroid().coordinates().get(0).getInfo()), zoom=8)\n",
    "vizvv= {'bands': ['VV'],'min': -30, 'max': 17}\n",
    "s1viz= {'min': 0, 'max': 255}\n",
    "demviz= {'min': 0, 'max': 500,'palette': ['0000ff', '00ffff', 'ffff00', 'ff0000', 'ffffff']}\n",
    "#Map.addLayer(source_im, vizvv, 'S1%s_source'%(date_start), True)\n",
    "Map.addLayer(stretched_im, s1viz, 'S1%s_stretched'%(date_start), True)\n",
    "Map.addLayer(comp_vv_lee1, vizvv, 'S1%s - speckle1'%(date_start), True)\n",
    "#Map.addLayer(dem, demviz, 'DEM', True, 0.9)\n",
    "Map"
   ]
  },
  {
   "cell_type": "markdown",
   "metadata": {
    "id": "LexZPrKxiOgP"
   },
   "source": [
    "Chgeck best option for classifier (source, stretched or speckle filetered)"
   ]
  },
  {
   "cell_type": "code",
   "execution_count": null,
   "metadata": {
    "colab": {
     "base_uri": "https://localhost:8080/"
    },
    "executionInfo": {
     "elapsed": 249,
     "status": "ok",
     "timestamp": 1624907747545,
     "user": {
      "displayName": "Igor Glushkov",
      "photoUrl": "https://lh3.googleusercontent.com/a-/AOh14GgjL3WvM-3fZ2ZeVejYUq49HUoTDMXI1ACzmUV9=s64",
      "userId": "04421627850327208525"
     },
     "user_tz": -180
    },
    "id": "WUiZmY3Z6XXv",
    "outputId": "3065af14-0a4c-4b60-8b1f-6d3dc7f6a5d0"
   },
   "outputs": [
    {
     "name": "stdout",
     "output_type": "stream",
     "text": [
      "['20N_070W', '20S_050W', '10N_000E', '60N_000E', '10N_120E']\n"
     ]
    }
   ],
   "source": [
    "# crs=s1.first().select('VV').projection().crs().getInfo()\n",
    "# print(crs)\n",
    "names=names.getInfo()\n",
    "print(names)"
   ]
  },
  {
   "cell_type": "markdown",
   "metadata": {
    "id": "rQ7sGhZh69uv"
   },
   "source": [
    "01.6 Export composite to gcloud as Geotif"
   ]
  },
  {
   "cell_type": "code",
   "execution_count": null,
   "metadata": {
    "id": "Ga-t1skQEVv_"
   },
   "outputs": [],
   "source": [
    "def doExportIMG(out_image_base,img,BANDS,FOLDER,dims,region,scale,crs):\n",
    "  \"\"\"Run the image export task.  Block until complete.\n",
    "  \"\"\"\n",
    "  task = ee.batch.Export.image.toCloudStorage(\n",
    "    image = img.select(BANDS), \n",
    "    description = out_image_base, \n",
    "    bucket = BUCKET, \n",
    "    fileNamePrefix = FOLDER + '/' + out_image_base, \n",
    "    region = region,#.getInfo()['coordinates'], \n",
    "    scale=scale,\n",
    "    crs=crs,\n",
    "    #shardSize=25,\n",
    "    fileDimensions=dims,  \n",
    "    maxPixels = 1e13,\n",
    "  )\n",
    "  task.start()\n",
    "\n",
    "  # Block until the task completes.\n",
    "  print('Running image export to Cloud Storage...')\n",
    "  import time\n",
    "  while task.active():\n",
    "    time.sleep(30)\n",
    "\n",
    "  # Error condition\n",
    "  if task.status()['state'] != 'COMPLETED':\n",
    "    print('Error with image export.')\n",
    "  else:\n",
    "    print('Image export completed.')"
   ]
  },
  {
   "cell_type": "code",
   "execution_count": null,
   "metadata": {
    "id": "gDaYMMkFp5ve"
   },
   "outputs": [],
   "source": [
    "def export2gcloud(names_list,BUCKET,AOI,BANDS,dims,scale,date_start,date_end):\n",
    "  try:\n",
    "    for name in names:\n",
    "      #select aoi for 10dd tiles\n",
    "      aoi = ee.FeatureCollection(AOI).filter(ee.Filter.eq('GLADNAME', name))\n",
    "      FOLDER = 'OILSPILLS/%s'% name\n",
    "      out_image_base='img_src_%s_%s'%(name,date_start)\n",
    "      #create composites\n",
    "      #S1 collection\n",
    "      s1 = ee.ImageCollection('COPERNICUS/S1_GRD').filterMetadata('transmitterReceiverPolarisation', 'equals', ['VV','VH']).filterBounds(aoi).filterDate(date_start,date_end)\n",
    "      crs=s1.first().select(BANDS).projection().crs()\n",
    "      #dem\n",
    "      dem = ee.Image(\"JAXA/ALOS/AW3D30/V2_2\").select('AVE_DSM').unmask().clip(aoi)\n",
    "      #mask less then 1m height\n",
    "      dmask = ee.Image(dem.lt(1))\n",
    "      source_im=s1.mean().updateMask(dmask)\n",
    "      img= ee.Image(toDB(RefinedLee(toNatural(source_im)))).rename('VV')\n",
    "      #remove prev files\n",
    "      command='gsutil rm gs://'+BUCKET+'/'+FOLDER+'/*'\n",
    "      os.system(command)\n",
    "      #export\n",
    "      doExportIMG(out_image_base,img,BANDS,FOLDER,dims,aoi.geometry(),scale,crs)\n",
    "      tsks=ee.batch.Task.list()\n",
    "      print(tsks)\n",
    "  except IOError as e:\n",
    "      print(str(e))\n"
   ]
  },
  {
   "cell_type": "code",
   "execution_count": null,
   "metadata": {
    "colab": {
     "base_uri": "https://localhost:8080/"
    },
    "executionInfo": {
     "elapsed": 6680546,
     "status": "ok",
     "timestamp": 1624914434222,
     "user": {
      "displayName": "Igor Glushkov",
      "photoUrl": "https://lh3.googleusercontent.com/a-/AOh14GgjL3WvM-3fZ2ZeVejYUq49HUoTDMXI1ACzmUV9=s64",
      "userId": "04421627850327208525"
     },
     "user_tz": -180
    },
    "id": "Hwd6S1aYuM9e",
    "outputId": "377f5665-5bfe-4ad9-a0a9-d59b4944193c"
   },
   "outputs": [
    {
     "name": "stdout",
     "output_type": "stream",
     "text": [
      "Running image export to Cloud Storage...\n",
      "Image export completed.\n",
      "[<Task Z4VPJIWEEINTERXZP6KDDWGF EXPORT_IMAGE: img_src_20N_070W_2021-06-23 (COMPLETED)>, <Task OMS7VEM73T6QKJ4VG32WYRUS EXPORT_IMAGE: img_src_10N_120E_2021-06-20 (COMPLETED)>, <Task THULZFJ2AVAGOQQ6AO3SRRYI EXPORT_IMAGE: img_src_60N_000E_2021-06-20 (COMPLETED)>, <Task HTENWYZ6D2BVFFP7RQL3Z4LP EXPORT_IMAGE: img_src_10N_000E_2021-06-20 (COMPLETED)>, <Task CB563SHDQOQWTKOTO45WF424 EXPORT_IMAGE: img_src_20S_050W_2021-06-20 (COMPLETED)>, <Task LSHX6E3K7ISGHS4PWXPHEGPR EXPORT_IMAGE: img_src_20N_070W_2021-06-20 (COMPLETED)>, <Task VT5TQ5GOSFNHW3OP4C2XV4FN EXPORT_IMAGE: img_src_10N_120E_2021-06-18 (COMPLETED)>, <Task C65ELK7FSZMIBAG4CIYFLZQ6 EXPORT_IMAGE: img_src_60N_000E_2021-06-18 (COMPLETED)>, <Task RHPEGXXLEM7X642MVSBT34HZ EXPORT_IMAGE: img_src_10N_000E_2021-06-18 (COMPLETED)>, <Task BUYOE7YBQAQB2FYW32TYNESO EXPORT_IMAGE: img_src_20S_050W_2021-06-18 (COMPLETED)>, <Task 5RBREEQ5O43UJUZKVUXWTAVL EXPORT_IMAGE: img_src_20N_070W_2021-06-18 (COMPLETED)>, <Task UYOC5J2LWJZGSWXHHPV2ZI5W INGEST_TABLE: Ingest table: \"projects/earthengine-legacy/assets/users/iglushko/OIL_DATA/detected5_2021-06-18_2021-06-23_semantic256\" (FAILED)>, <Task PSFXJ4YD3UYIXVH6S72TE5S5 EXPORT_IMAGE: img_src_10N_120E_2021-06-18 (COMPLETED)>, <Task 3NM4ULSI6W5MFHPG3VSOJ5CK EXPORT_IMAGE: img_src_60N_000E_2021-06-18 (COMPLETED)>, <Task OMRDEBG7RF2IB5EIXKUKQIND EXPORT_IMAGE: img_src_10N_000E_2021-06-18 (COMPLETED)>, <Task T7HXUG4ZKLBSLF6HE5E5FKAA EXPORT_IMAGE: img_src_20S_050W_2021-06-18 (COMPLETED)>, <Task ZGOBP2FH5V6NQTBQGSUNNAZM EXPORT_IMAGE: img_src_20N_070W_2021-06-18 (COMPLETED)>, <Task 3SDPFSXU6FWPFWSDGQWIKYXX EXPORT_IMAGE: img_src_20N_070W_2021-06-18 (COMPLETED)>, <Task 6O4KKXNRFFQDYPWKYMNLGF7M EXPORT_IMAGE: img_src_60N_000E_2021-06-18 (FAILED)>, <Task 53FYMMAAVVYFJBRZZDDNABVR EXPORT_IMAGE: img_src_10N_000E_2021-06-18 (FAILED)>, <Task 3LE3DNFB6IIPGKTKO2I2DIVY EXPORT_IMAGE: img_src_20S_050W_2021-06-18 (FAILED)>, <Task ZIIALGW5XEOMXPPZELG3YAJG EXPORT_IMAGE: img_src_20N_070W_2021-06-18 (FAILED)>, <Task 5SWTDP5QFHSZ72CKRZ3FWHJF INGEST_TABLE: Ingest table: \"projects/earthengine-legacy/assets/users/iglushko/OIL_DATA/tiles10dd\" (COMPLETED)>, <Task RZGBU3LLEK5TNIINAMOFF2LW INGEST_TABLE: Ingest table: \"projects/earthengine-legacy/assets/users/iglushko/OIL_DATA/aoi_prior\" (COMPLETED)>, <Task RXHRK2JMD5Y6R5DNB5D23QQH EXPORT_IMAGE: img_src_west_africa_2021-06-12 (COMPLETED)>]\n",
      "Running image export to Cloud Storage...\n",
      "Image export completed.\n",
      "[<Task V47VEKS6AK3ARX53YBGQ5YPL EXPORT_IMAGE: img_src_20S_050W_2021-06-23 (COMPLETED)>, <Task Z4VPJIWEEINTERXZP6KDDWGF EXPORT_IMAGE: img_src_20N_070W_2021-06-23 (COMPLETED)>, <Task OMS7VEM73T6QKJ4VG32WYRUS EXPORT_IMAGE: img_src_10N_120E_2021-06-20 (COMPLETED)>, <Task THULZFJ2AVAGOQQ6AO3SRRYI EXPORT_IMAGE: img_src_60N_000E_2021-06-20 (COMPLETED)>, <Task HTENWYZ6D2BVFFP7RQL3Z4LP EXPORT_IMAGE: img_src_10N_000E_2021-06-20 (COMPLETED)>, <Task CB563SHDQOQWTKOTO45WF424 EXPORT_IMAGE: img_src_20S_050W_2021-06-20 (COMPLETED)>, <Task LSHX6E3K7ISGHS4PWXPHEGPR EXPORT_IMAGE: img_src_20N_070W_2021-06-20 (COMPLETED)>, <Task VT5TQ5GOSFNHW3OP4C2XV4FN EXPORT_IMAGE: img_src_10N_120E_2021-06-18 (COMPLETED)>, <Task C65ELK7FSZMIBAG4CIYFLZQ6 EXPORT_IMAGE: img_src_60N_000E_2021-06-18 (COMPLETED)>, <Task RHPEGXXLEM7X642MVSBT34HZ EXPORT_IMAGE: img_src_10N_000E_2021-06-18 (COMPLETED)>, <Task BUYOE7YBQAQB2FYW32TYNESO EXPORT_IMAGE: img_src_20S_050W_2021-06-18 (COMPLETED)>, <Task 5RBREEQ5O43UJUZKVUXWTAVL EXPORT_IMAGE: img_src_20N_070W_2021-06-18 (COMPLETED)>, <Task UYOC5J2LWJZGSWXHHPV2ZI5W INGEST_TABLE: Ingest table: \"projects/earthengine-legacy/assets/users/iglushko/OIL_DATA/detected5_2021-06-18_2021-06-23_semantic256\" (FAILED)>, <Task PSFXJ4YD3UYIXVH6S72TE5S5 EXPORT_IMAGE: img_src_10N_120E_2021-06-18 (COMPLETED)>, <Task 3NM4ULSI6W5MFHPG3VSOJ5CK EXPORT_IMAGE: img_src_60N_000E_2021-06-18 (COMPLETED)>, <Task OMRDEBG7RF2IB5EIXKUKQIND EXPORT_IMAGE: img_src_10N_000E_2021-06-18 (COMPLETED)>, <Task T7HXUG4ZKLBSLF6HE5E5FKAA EXPORT_IMAGE: img_src_20S_050W_2021-06-18 (COMPLETED)>, <Task ZGOBP2FH5V6NQTBQGSUNNAZM EXPORT_IMAGE: img_src_20N_070W_2021-06-18 (COMPLETED)>, <Task 3SDPFSXU6FWPFWSDGQWIKYXX EXPORT_IMAGE: img_src_20N_070W_2021-06-18 (COMPLETED)>, <Task 6O4KKXNRFFQDYPWKYMNLGF7M EXPORT_IMAGE: img_src_60N_000E_2021-06-18 (FAILED)>, <Task 53FYMMAAVVYFJBRZZDDNABVR EXPORT_IMAGE: img_src_10N_000E_2021-06-18 (FAILED)>, <Task 3LE3DNFB6IIPGKTKO2I2DIVY EXPORT_IMAGE: img_src_20S_050W_2021-06-18 (FAILED)>, <Task ZIIALGW5XEOMXPPZELG3YAJG EXPORT_IMAGE: img_src_20N_070W_2021-06-18 (FAILED)>, <Task 5SWTDP5QFHSZ72CKRZ3FWHJF INGEST_TABLE: Ingest table: \"projects/earthengine-legacy/assets/users/iglushko/OIL_DATA/tiles10dd\" (COMPLETED)>, <Task RZGBU3LLEK5TNIINAMOFF2LW INGEST_TABLE: Ingest table: \"projects/earthengine-legacy/assets/users/iglushko/OIL_DATA/aoi_prior\" (COMPLETED)>, <Task RXHRK2JMD5Y6R5DNB5D23QQH EXPORT_IMAGE: img_src_west_africa_2021-06-12 (COMPLETED)>]\n",
      "Running image export to Cloud Storage...\n",
      "Image export completed.\n",
      "[<Task 6ZUNBBLCQNPTGL6EK6LIPY6V EXPORT_IMAGE: img_src_10N_000E_2021-06-23 (COMPLETED)>, <Task V47VEKS6AK3ARX53YBGQ5YPL EXPORT_IMAGE: img_src_20S_050W_2021-06-23 (COMPLETED)>, <Task Z4VPJIWEEINTERXZP6KDDWGF EXPORT_IMAGE: img_src_20N_070W_2021-06-23 (COMPLETED)>, <Task OMS7VEM73T6QKJ4VG32WYRUS EXPORT_IMAGE: img_src_10N_120E_2021-06-20 (COMPLETED)>, <Task THULZFJ2AVAGOQQ6AO3SRRYI EXPORT_IMAGE: img_src_60N_000E_2021-06-20 (COMPLETED)>, <Task HTENWYZ6D2BVFFP7RQL3Z4LP EXPORT_IMAGE: img_src_10N_000E_2021-06-20 (COMPLETED)>, <Task CB563SHDQOQWTKOTO45WF424 EXPORT_IMAGE: img_src_20S_050W_2021-06-20 (COMPLETED)>, <Task LSHX6E3K7ISGHS4PWXPHEGPR EXPORT_IMAGE: img_src_20N_070W_2021-06-20 (COMPLETED)>, <Task VT5TQ5GOSFNHW3OP4C2XV4FN EXPORT_IMAGE: img_src_10N_120E_2021-06-18 (COMPLETED)>, <Task C65ELK7FSZMIBAG4CIYFLZQ6 EXPORT_IMAGE: img_src_60N_000E_2021-06-18 (COMPLETED)>, <Task RHPEGXXLEM7X642MVSBT34HZ EXPORT_IMAGE: img_src_10N_000E_2021-06-18 (COMPLETED)>, <Task BUYOE7YBQAQB2FYW32TYNESO EXPORT_IMAGE: img_src_20S_050W_2021-06-18 (COMPLETED)>, <Task 5RBREEQ5O43UJUZKVUXWTAVL EXPORT_IMAGE: img_src_20N_070W_2021-06-18 (COMPLETED)>, <Task UYOC5J2LWJZGSWXHHPV2ZI5W INGEST_TABLE: Ingest table: \"projects/earthengine-legacy/assets/users/iglushko/OIL_DATA/detected5_2021-06-18_2021-06-23_semantic256\" (FAILED)>, <Task PSFXJ4YD3UYIXVH6S72TE5S5 EXPORT_IMAGE: img_src_10N_120E_2021-06-18 (COMPLETED)>, <Task 3NM4ULSI6W5MFHPG3VSOJ5CK EXPORT_IMAGE: img_src_60N_000E_2021-06-18 (COMPLETED)>, <Task OMRDEBG7RF2IB5EIXKUKQIND EXPORT_IMAGE: img_src_10N_000E_2021-06-18 (COMPLETED)>, <Task T7HXUG4ZKLBSLF6HE5E5FKAA EXPORT_IMAGE: img_src_20S_050W_2021-06-18 (COMPLETED)>, <Task ZGOBP2FH5V6NQTBQGSUNNAZM EXPORT_IMAGE: img_src_20N_070W_2021-06-18 (COMPLETED)>, <Task 3SDPFSXU6FWPFWSDGQWIKYXX EXPORT_IMAGE: img_src_20N_070W_2021-06-18 (COMPLETED)>, <Task 6O4KKXNRFFQDYPWKYMNLGF7M EXPORT_IMAGE: img_src_60N_000E_2021-06-18 (FAILED)>, <Task 53FYMMAAVVYFJBRZZDDNABVR EXPORT_IMAGE: img_src_10N_000E_2021-06-18 (FAILED)>, <Task 3LE3DNFB6IIPGKTKO2I2DIVY EXPORT_IMAGE: img_src_20S_050W_2021-06-18 (FAILED)>, <Task ZIIALGW5XEOMXPPZELG3YAJG EXPORT_IMAGE: img_src_20N_070W_2021-06-18 (FAILED)>, <Task 5SWTDP5QFHSZ72CKRZ3FWHJF INGEST_TABLE: Ingest table: \"projects/earthengine-legacy/assets/users/iglushko/OIL_DATA/tiles10dd\" (COMPLETED)>, <Task RZGBU3LLEK5TNIINAMOFF2LW INGEST_TABLE: Ingest table: \"projects/earthengine-legacy/assets/users/iglushko/OIL_DATA/aoi_prior\" (COMPLETED)>, <Task RXHRK2JMD5Y6R5DNB5D23QQH EXPORT_IMAGE: img_src_west_africa_2021-06-12 (COMPLETED)>]\n",
      "Running image export to Cloud Storage...\n",
      "Image export completed.\n",
      "[<Task FHWTIJJXBRJ4HOMAEK4AR2XA EXPORT_IMAGE: img_src_60N_000E_2021-06-23 (COMPLETED)>, <Task 6ZUNBBLCQNPTGL6EK6LIPY6V EXPORT_IMAGE: img_src_10N_000E_2021-06-23 (COMPLETED)>, <Task V47VEKS6AK3ARX53YBGQ5YPL EXPORT_IMAGE: img_src_20S_050W_2021-06-23 (COMPLETED)>, <Task Z4VPJIWEEINTERXZP6KDDWGF EXPORT_IMAGE: img_src_20N_070W_2021-06-23 (COMPLETED)>, <Task OMS7VEM73T6QKJ4VG32WYRUS EXPORT_IMAGE: img_src_10N_120E_2021-06-20 (COMPLETED)>, <Task THULZFJ2AVAGOQQ6AO3SRRYI EXPORT_IMAGE: img_src_60N_000E_2021-06-20 (COMPLETED)>, <Task HTENWYZ6D2BVFFP7RQL3Z4LP EXPORT_IMAGE: img_src_10N_000E_2021-06-20 (COMPLETED)>, <Task CB563SHDQOQWTKOTO45WF424 EXPORT_IMAGE: img_src_20S_050W_2021-06-20 (COMPLETED)>, <Task LSHX6E3K7ISGHS4PWXPHEGPR EXPORT_IMAGE: img_src_20N_070W_2021-06-20 (COMPLETED)>, <Task VT5TQ5GOSFNHW3OP4C2XV4FN EXPORT_IMAGE: img_src_10N_120E_2021-06-18 (COMPLETED)>, <Task C65ELK7FSZMIBAG4CIYFLZQ6 EXPORT_IMAGE: img_src_60N_000E_2021-06-18 (COMPLETED)>, <Task RHPEGXXLEM7X642MVSBT34HZ EXPORT_IMAGE: img_src_10N_000E_2021-06-18 (COMPLETED)>, <Task BUYOE7YBQAQB2FYW32TYNESO EXPORT_IMAGE: img_src_20S_050W_2021-06-18 (COMPLETED)>, <Task 5RBREEQ5O43UJUZKVUXWTAVL EXPORT_IMAGE: img_src_20N_070W_2021-06-18 (COMPLETED)>, <Task UYOC5J2LWJZGSWXHHPV2ZI5W INGEST_TABLE: Ingest table: \"projects/earthengine-legacy/assets/users/iglushko/OIL_DATA/detected5_2021-06-18_2021-06-23_semantic256\" (FAILED)>, <Task PSFXJ4YD3UYIXVH6S72TE5S5 EXPORT_IMAGE: img_src_10N_120E_2021-06-18 (COMPLETED)>, <Task 3NM4ULSI6W5MFHPG3VSOJ5CK EXPORT_IMAGE: img_src_60N_000E_2021-06-18 (COMPLETED)>, <Task OMRDEBG7RF2IB5EIXKUKQIND EXPORT_IMAGE: img_src_10N_000E_2021-06-18 (COMPLETED)>, <Task T7HXUG4ZKLBSLF6HE5E5FKAA EXPORT_IMAGE: img_src_20S_050W_2021-06-18 (COMPLETED)>, <Task ZGOBP2FH5V6NQTBQGSUNNAZM EXPORT_IMAGE: img_src_20N_070W_2021-06-18 (COMPLETED)>, <Task 3SDPFSXU6FWPFWSDGQWIKYXX EXPORT_IMAGE: img_src_20N_070W_2021-06-18 (COMPLETED)>, <Task 6O4KKXNRFFQDYPWKYMNLGF7M EXPORT_IMAGE: img_src_60N_000E_2021-06-18 (FAILED)>, <Task 53FYMMAAVVYFJBRZZDDNABVR EXPORT_IMAGE: img_src_10N_000E_2021-06-18 (FAILED)>, <Task 3LE3DNFB6IIPGKTKO2I2DIVY EXPORT_IMAGE: img_src_20S_050W_2021-06-18 (FAILED)>, <Task ZIIALGW5XEOMXPPZELG3YAJG EXPORT_IMAGE: img_src_20N_070W_2021-06-18 (FAILED)>, <Task 5SWTDP5QFHSZ72CKRZ3FWHJF INGEST_TABLE: Ingest table: \"projects/earthengine-legacy/assets/users/iglushko/OIL_DATA/tiles10dd\" (COMPLETED)>, <Task RZGBU3LLEK5TNIINAMOFF2LW INGEST_TABLE: Ingest table: \"projects/earthengine-legacy/assets/users/iglushko/OIL_DATA/aoi_prior\" (COMPLETED)>, <Task RXHRK2JMD5Y6R5DNB5D23QQH EXPORT_IMAGE: img_src_west_africa_2021-06-12 (COMPLETED)>]\n",
      "Running image export to Cloud Storage...\n",
      "Image export completed.\n",
      "[<Task RH76S7E2CXL73RGUCJCDFVVM EXPORT_IMAGE: img_src_10N_120E_2021-06-23 (COMPLETED)>, <Task FHWTIJJXBRJ4HOMAEK4AR2XA EXPORT_IMAGE: img_src_60N_000E_2021-06-23 (COMPLETED)>, <Task 6ZUNBBLCQNPTGL6EK6LIPY6V EXPORT_IMAGE: img_src_10N_000E_2021-06-23 (COMPLETED)>, <Task V47VEKS6AK3ARX53YBGQ5YPL EXPORT_IMAGE: img_src_20S_050W_2021-06-23 (COMPLETED)>, <Task Z4VPJIWEEINTERXZP6KDDWGF EXPORT_IMAGE: img_src_20N_070W_2021-06-23 (COMPLETED)>, <Task OMS7VEM73T6QKJ4VG32WYRUS EXPORT_IMAGE: img_src_10N_120E_2021-06-20 (COMPLETED)>, <Task THULZFJ2AVAGOQQ6AO3SRRYI EXPORT_IMAGE: img_src_60N_000E_2021-06-20 (COMPLETED)>, <Task HTENWYZ6D2BVFFP7RQL3Z4LP EXPORT_IMAGE: img_src_10N_000E_2021-06-20 (COMPLETED)>, <Task CB563SHDQOQWTKOTO45WF424 EXPORT_IMAGE: img_src_20S_050W_2021-06-20 (COMPLETED)>, <Task LSHX6E3K7ISGHS4PWXPHEGPR EXPORT_IMAGE: img_src_20N_070W_2021-06-20 (COMPLETED)>, <Task VT5TQ5GOSFNHW3OP4C2XV4FN EXPORT_IMAGE: img_src_10N_120E_2021-06-18 (COMPLETED)>, <Task C65ELK7FSZMIBAG4CIYFLZQ6 EXPORT_IMAGE: img_src_60N_000E_2021-06-18 (COMPLETED)>, <Task RHPEGXXLEM7X642MVSBT34HZ EXPORT_IMAGE: img_src_10N_000E_2021-06-18 (COMPLETED)>, <Task BUYOE7YBQAQB2FYW32TYNESO EXPORT_IMAGE: img_src_20S_050W_2021-06-18 (COMPLETED)>, <Task 5RBREEQ5O43UJUZKVUXWTAVL EXPORT_IMAGE: img_src_20N_070W_2021-06-18 (COMPLETED)>, <Task UYOC5J2LWJZGSWXHHPV2ZI5W INGEST_TABLE: Ingest table: \"projects/earthengine-legacy/assets/users/iglushko/OIL_DATA/detected5_2021-06-18_2021-06-23_semantic256\" (FAILED)>, <Task PSFXJ4YD3UYIXVH6S72TE5S5 EXPORT_IMAGE: img_src_10N_120E_2021-06-18 (COMPLETED)>, <Task 3NM4ULSI6W5MFHPG3VSOJ5CK EXPORT_IMAGE: img_src_60N_000E_2021-06-18 (COMPLETED)>, <Task OMRDEBG7RF2IB5EIXKUKQIND EXPORT_IMAGE: img_src_10N_000E_2021-06-18 (COMPLETED)>, <Task T7HXUG4ZKLBSLF6HE5E5FKAA EXPORT_IMAGE: img_src_20S_050W_2021-06-18 (COMPLETED)>, <Task ZGOBP2FH5V6NQTBQGSUNNAZM EXPORT_IMAGE: img_src_20N_070W_2021-06-18 (COMPLETED)>, <Task 3SDPFSXU6FWPFWSDGQWIKYXX EXPORT_IMAGE: img_src_20N_070W_2021-06-18 (COMPLETED)>, <Task 6O4KKXNRFFQDYPWKYMNLGF7M EXPORT_IMAGE: img_src_60N_000E_2021-06-18 (FAILED)>, <Task 53FYMMAAVVYFJBRZZDDNABVR EXPORT_IMAGE: img_src_10N_000E_2021-06-18 (FAILED)>, <Task 3LE3DNFB6IIPGKTKO2I2DIVY EXPORT_IMAGE: img_src_20S_050W_2021-06-18 (FAILED)>, <Task ZIIALGW5XEOMXPPZELG3YAJG EXPORT_IMAGE: img_src_20N_070W_2021-06-18 (FAILED)>, <Task 5SWTDP5QFHSZ72CKRZ3FWHJF INGEST_TABLE: Ingest table: \"projects/earthengine-legacy/assets/users/iglushko/OIL_DATA/tiles10dd\" (COMPLETED)>, <Task RZGBU3LLEK5TNIINAMOFF2LW INGEST_TABLE: Ingest table: \"projects/earthengine-legacy/assets/users/iglushko/OIL_DATA/aoi_prior\" (COMPLETED)>, <Task RXHRK2JMD5Y6R5DNB5D23QQH EXPORT_IMAGE: img_src_west_africa_2021-06-12 (COMPLETED)>]\n"
     ]
    }
   ],
   "source": [
    "export2gcloud(names,BUCKET,AOI,BANDS,dims,scale,date_start,date_end)"
   ]
  },
  {
   "cell_type": "markdown",
   "metadata": {
    "id": "xG1UJgHKa7u5"
   },
   "source": [
    "02 Get list of data from gcloud folder"
   ]
  },
  {
   "cell_type": "code",
   "execution_count": null,
   "metadata": {
    "id": "RtmEGbZizfqK"
   },
   "outputs": [],
   "source": [
    "from google.cloud import storage\n",
    "def get_files(BUCKET,FOLDER):\n",
    "  storage_client = storage.Client(cloud_id)\n",
    "  # Note: Client.list_blobs requires at least package version 1.17.0.\n",
    "  blobs = storage_client.list_blobs(BUCKET,prefix=FOLDER)\n",
    "  return blobs"
   ]
  },
  {
   "cell_type": "code",
   "execution_count": null,
   "metadata": {
    "id": "m9xjlduXzimY"
   },
   "outputs": [],
   "source": [
    "FOLDER='OILSPILLS/'+names[0]\n",
    "gsfiles=get_files(BUCKET,FOLDER)\n",
    "flist=[]\n",
    "for n,f in enumerate(gsfiles):\n",
    "  flist.append(f.name)"
   ]
  },
  {
   "cell_type": "markdown",
   "metadata": {
    "id": "WwPNgvxl2D4T"
   },
   "source": [
    "### END"
   ]
  }
 ],
 "metadata": {
  "colab": {
   "authorship_tag": "ABX9TyNK/YsAtvh7JxMnHWBeqhOJ",
   "collapsed_sections": [],
   "name": "01_OILSPILLS_IMPORT_FROM_GEE.ipynb",
   "provenance": [
    {
     "file_id": "1H3NmwNHCjkyCHmf0Um9svXMqHgTb0NH6",
     "timestamp": 1623077034383
    },
    {
     "file_id": "1Xp8-2mH_pd1dglRdINSX47IvxK8hkRQM",
     "timestamp": 1620820775635
    }
   ]
  },
  "kernelspec": {
   "display_name": "Python 3",
   "language": "python",
   "name": "python3"
  },
  "language_info": {
   "codemirror_mode": {
    "name": "ipython",
    "version": 3
   },
   "file_extension": ".py",
   "mimetype": "text/x-python",
   "name": "python",
   "nbconvert_exporter": "python",
   "pygments_lexer": "ipython3",
   "version": "3.6.9"
  }
 },
 "nbformat": 4,
 "nbformat_minor": 1
}
